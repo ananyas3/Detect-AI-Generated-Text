{
 "cells": [
  {
   "cell_type": "markdown",
   "id": "dba05962",
   "metadata": {
    "papermill": {
     "duration": 0.014972,
     "end_time": "2023-11-01T15:00:29.375819",
     "exception": false,
     "start_time": "2023-11-01T15:00:29.360847",
     "status": "completed"
    },
    "tags": []
   },
   "source": [
    "## Import and EDA"
   ]
  },
  {
   "cell_type": "code",
   "execution_count": 1,
   "id": "06b9ed9f",
   "metadata": {
    "_cell_guid": "b1076dfc-b9ad-4769-8c92-a6c4dae69d19",
    "_uuid": "8f2839f25d086af736a60e9eeb907d3b93b6e0e5",
    "execution": {
     "iopub.execute_input": "2023-11-01T15:00:29.404540Z",
     "iopub.status.busy": "2023-11-01T15:00:29.404181Z",
     "iopub.status.idle": "2023-11-01T15:00:31.027682Z",
     "shell.execute_reply": "2023-11-01T15:00:31.026833Z"
    },
    "papermill": {
     "duration": 1.63996,
     "end_time": "2023-11-01T15:00:31.030105",
     "exception": false,
     "start_time": "2023-11-01T15:00:29.390145",
     "status": "completed"
    },
    "tags": []
   },
   "outputs": [
    {
     "name": "stderr",
     "output_type": "stream",
     "text": [
      "/opt/conda/lib/python3.10/site-packages/scipy/__init__.py:146: UserWarning: A NumPy version >=1.16.5 and <1.23.0 is required for this version of SciPy (detected version 1.23.5\n",
      "  warnings.warn(f\"A NumPy version >={np_minversion} and <{np_maxversion}\"\n"
     ]
    }
   ],
   "source": [
    "import numpy as np\n",
    "import pandas as pd\n",
    "from sklearn import metrics\n",
    "from pathlib import Path\n",
    "import warnings\n",
    "\n",
    "warnings.filterwarnings('ignore')"
   ]
  },
  {
   "cell_type": "code",
   "execution_count": 2,
   "id": "b43c0518",
   "metadata": {
    "execution": {
     "iopub.execute_input": "2023-11-01T15:00:31.056136Z",
     "iopub.status.busy": "2023-11-01T15:00:31.055681Z",
     "iopub.status.idle": "2023-11-01T15:00:31.061134Z",
     "shell.execute_reply": "2023-11-01T15:00:31.060337Z"
    },
    "papermill": {
     "duration": 0.020443,
     "end_time": "2023-11-01T15:00:31.062926",
     "exception": false,
     "start_time": "2023-11-01T15:00:31.042483",
     "status": "completed"
    },
    "tags": []
   },
   "outputs": [],
   "source": [
    "path = '/kaggle/input/llm-detect-ai-generated-text'"
   ]
  },
  {
   "cell_type": "code",
   "execution_count": 3,
   "id": "839a6b05",
   "metadata": {
    "execution": {
     "iopub.execute_input": "2023-11-01T15:00:31.088677Z",
     "iopub.status.busy": "2023-11-01T15:00:31.088343Z",
     "iopub.status.idle": "2023-11-01T15:00:31.212661Z",
     "shell.execute_reply": "2023-11-01T15:00:31.211786Z"
    },
    "papermill": {
     "duration": 0.139908,
     "end_time": "2023-11-01T15:00:31.215042",
     "exception": false,
     "start_time": "2023-11-01T15:00:31.075134",
     "status": "completed"
    },
    "tags": []
   },
   "outputs": [],
   "source": [
    "train_essay = pd.read_csv(f\"{path}/train_essays.csv\")\n",
    "test_essay = pd.read_csv(f\"{path}/test_essays.csv\")\n",
    "train_prompts = pd.read_csv(f\"{path}/train_prompts.csv\")"
   ]
  },
  {
   "cell_type": "code",
   "execution_count": 4,
   "id": "dababe3f",
   "metadata": {
    "execution": {
     "iopub.execute_input": "2023-11-01T15:00:31.241330Z",
     "iopub.status.busy": "2023-11-01T15:00:31.241036Z",
     "iopub.status.idle": "2023-11-01T15:00:31.258085Z",
     "shell.execute_reply": "2023-11-01T15:00:31.257223Z"
    },
    "papermill": {
     "duration": 0.032378,
     "end_time": "2023-11-01T15:00:31.260064",
     "exception": false,
     "start_time": "2023-11-01T15:00:31.227686",
     "status": "completed"
    },
    "tags": []
   },
   "outputs": [
    {
     "data": {
      "text/html": [
       "<div>\n",
       "<style scoped>\n",
       "    .dataframe tbody tr th:only-of-type {\n",
       "        vertical-align: middle;\n",
       "    }\n",
       "\n",
       "    .dataframe tbody tr th {\n",
       "        vertical-align: top;\n",
       "    }\n",
       "\n",
       "    .dataframe thead th {\n",
       "        text-align: right;\n",
       "    }\n",
       "</style>\n",
       "<table border=\"1\" class=\"dataframe\">\n",
       "  <thead>\n",
       "    <tr style=\"text-align: right;\">\n",
       "      <th></th>\n",
       "      <th>id</th>\n",
       "      <th>prompt_id</th>\n",
       "      <th>text</th>\n",
       "      <th>generated</th>\n",
       "    </tr>\n",
       "  </thead>\n",
       "  <tbody>\n",
       "    <tr>\n",
       "      <th>0</th>\n",
       "      <td>0059830c</td>\n",
       "      <td>0</td>\n",
       "      <td>Cars. Cars have been around since they became ...</td>\n",
       "      <td>0</td>\n",
       "    </tr>\n",
       "    <tr>\n",
       "      <th>1</th>\n",
       "      <td>005db917</td>\n",
       "      <td>0</td>\n",
       "      <td>Transportation is a large necessity in most co...</td>\n",
       "      <td>0</td>\n",
       "    </tr>\n",
       "    <tr>\n",
       "      <th>2</th>\n",
       "      <td>008f63e3</td>\n",
       "      <td>0</td>\n",
       "      <td>\"America's love affair with it's vehicles seem...</td>\n",
       "      <td>0</td>\n",
       "    </tr>\n",
       "    <tr>\n",
       "      <th>3</th>\n",
       "      <td>00940276</td>\n",
       "      <td>0</td>\n",
       "      <td>How often do you ride in a car? Do you drive a...</td>\n",
       "      <td>0</td>\n",
       "    </tr>\n",
       "    <tr>\n",
       "      <th>4</th>\n",
       "      <td>00c39458</td>\n",
       "      <td>0</td>\n",
       "      <td>Cars are a wonderful thing. They are perhaps o...</td>\n",
       "      <td>0</td>\n",
       "    </tr>\n",
       "  </tbody>\n",
       "</table>\n",
       "</div>"
      ],
      "text/plain": [
       "         id  prompt_id                                               text  \\\n",
       "0  0059830c          0  Cars. Cars have been around since they became ...   \n",
       "1  005db917          0  Transportation is a large necessity in most co...   \n",
       "2  008f63e3          0  \"America's love affair with it's vehicles seem...   \n",
       "3  00940276          0  How often do you ride in a car? Do you drive a...   \n",
       "4  00c39458          0  Cars are a wonderful thing. They are perhaps o...   \n",
       "\n",
       "   generated  \n",
       "0          0  \n",
       "1          0  \n",
       "2          0  \n",
       "3          0  \n",
       "4          0  "
      ]
     },
     "execution_count": 4,
     "metadata": {},
     "output_type": "execute_result"
    }
   ],
   "source": [
    "train_essay.head()"
   ]
  },
  {
   "cell_type": "code",
   "execution_count": 5,
   "id": "6bb4b558",
   "metadata": {
    "execution": {
     "iopub.execute_input": "2023-11-01T15:00:31.286915Z",
     "iopub.status.busy": "2023-11-01T15:00:31.286377Z",
     "iopub.status.idle": "2023-11-01T15:00:31.297816Z",
     "shell.execute_reply": "2023-11-01T15:00:31.297002Z"
    },
    "papermill": {
     "duration": 0.027072,
     "end_time": "2023-11-01T15:00:31.299789",
     "exception": false,
     "start_time": "2023-11-01T15:00:31.272717",
     "status": "completed"
    },
    "tags": []
   },
   "outputs": [
    {
     "data": {
      "text/plain": [
       "generated\n",
       "0    1375\n",
       "1       3\n",
       "Name: count, dtype: int64"
      ]
     },
     "execution_count": 5,
     "metadata": {},
     "output_type": "execute_result"
    }
   ],
   "source": [
    "train_essay['generated'].value_counts()"
   ]
  },
  {
   "cell_type": "code",
   "execution_count": 6,
   "id": "4e9b9703",
   "metadata": {
    "execution": {
     "iopub.execute_input": "2023-11-01T15:00:31.325930Z",
     "iopub.status.busy": "2023-11-01T15:00:31.325666Z",
     "iopub.status.idle": "2023-11-01T15:00:31.331763Z",
     "shell.execute_reply": "2023-11-01T15:00:31.330966Z"
    },
    "papermill": {
     "duration": 0.021388,
     "end_time": "2023-11-01T15:00:31.333709",
     "exception": false,
     "start_time": "2023-11-01T15:00:31.312321",
     "status": "completed"
    },
    "tags": []
   },
   "outputs": [],
   "source": [
    "train_essay.generated = train_essay.generated.astype('float')"
   ]
  },
  {
   "cell_type": "code",
   "execution_count": 7,
   "id": "e12810fd",
   "metadata": {
    "execution": {
     "iopub.execute_input": "2023-11-01T15:00:31.360164Z",
     "iopub.status.busy": "2023-11-01T15:00:31.359888Z",
     "iopub.status.idle": "2023-11-01T15:00:31.368613Z",
     "shell.execute_reply": "2023-11-01T15:00:31.367761Z"
    },
    "papermill": {
     "duration": 0.024576,
     "end_time": "2023-11-01T15:00:31.370809",
     "exception": false,
     "start_time": "2023-11-01T15:00:31.346233",
     "status": "completed"
    },
    "tags": []
   },
   "outputs": [
    {
     "data": {
      "text/html": [
       "<div>\n",
       "<style scoped>\n",
       "    .dataframe tbody tr th:only-of-type {\n",
       "        vertical-align: middle;\n",
       "    }\n",
       "\n",
       "    .dataframe tbody tr th {\n",
       "        vertical-align: top;\n",
       "    }\n",
       "\n",
       "    .dataframe thead th {\n",
       "        text-align: right;\n",
       "    }\n",
       "</style>\n",
       "<table border=\"1\" class=\"dataframe\">\n",
       "  <thead>\n",
       "    <tr style=\"text-align: right;\">\n",
       "      <th></th>\n",
       "      <th>id</th>\n",
       "      <th>prompt_id</th>\n",
       "      <th>text</th>\n",
       "    </tr>\n",
       "  </thead>\n",
       "  <tbody>\n",
       "    <tr>\n",
       "      <th>0</th>\n",
       "      <td>0000aaaa</td>\n",
       "      <td>2</td>\n",
       "      <td>Aaa bbb ccc.</td>\n",
       "    </tr>\n",
       "    <tr>\n",
       "      <th>1</th>\n",
       "      <td>1111bbbb</td>\n",
       "      <td>3</td>\n",
       "      <td>Bbb ccc ddd.</td>\n",
       "    </tr>\n",
       "    <tr>\n",
       "      <th>2</th>\n",
       "      <td>2222cccc</td>\n",
       "      <td>4</td>\n",
       "      <td>CCC ddd eee.</td>\n",
       "    </tr>\n",
       "  </tbody>\n",
       "</table>\n",
       "</div>"
      ],
      "text/plain": [
       "         id  prompt_id          text\n",
       "0  0000aaaa          2  Aaa bbb ccc.\n",
       "1  1111bbbb          3  Bbb ccc ddd.\n",
       "2  2222cccc          4  CCC ddd eee."
      ]
     },
     "execution_count": 7,
     "metadata": {},
     "output_type": "execute_result"
    }
   ],
   "source": [
    "test_essay.head()"
   ]
  },
  {
   "cell_type": "code",
   "execution_count": 8,
   "id": "5a1df46c",
   "metadata": {
    "execution": {
     "iopub.execute_input": "2023-11-01T15:00:31.398397Z",
     "iopub.status.busy": "2023-11-01T15:00:31.397788Z",
     "iopub.status.idle": "2023-11-01T15:00:31.407595Z",
     "shell.execute_reply": "2023-11-01T15:00:31.406753Z"
    },
    "papermill": {
     "duration": 0.025541,
     "end_time": "2023-11-01T15:00:31.409542",
     "exception": false,
     "start_time": "2023-11-01T15:00:31.384001",
     "status": "completed"
    },
    "tags": []
   },
   "outputs": [
    {
     "data": {
      "text/html": [
       "<div>\n",
       "<style scoped>\n",
       "    .dataframe tbody tr th:only-of-type {\n",
       "        vertical-align: middle;\n",
       "    }\n",
       "\n",
       "    .dataframe tbody tr th {\n",
       "        vertical-align: top;\n",
       "    }\n",
       "\n",
       "    .dataframe thead th {\n",
       "        text-align: right;\n",
       "    }\n",
       "</style>\n",
       "<table border=\"1\" class=\"dataframe\">\n",
       "  <thead>\n",
       "    <tr style=\"text-align: right;\">\n",
       "      <th></th>\n",
       "      <th>prompt_id</th>\n",
       "      <th>prompt_name</th>\n",
       "      <th>instructions</th>\n",
       "      <th>source_text</th>\n",
       "    </tr>\n",
       "  </thead>\n",
       "  <tbody>\n",
       "    <tr>\n",
       "      <th>0</th>\n",
       "      <td>0</td>\n",
       "      <td>Car-free cities</td>\n",
       "      <td>Write an explanatory essay to inform fellow ci...</td>\n",
       "      <td># In German Suburb, Life Goes On Without Cars ...</td>\n",
       "    </tr>\n",
       "    <tr>\n",
       "      <th>1</th>\n",
       "      <td>1</td>\n",
       "      <td>Does the electoral college work?</td>\n",
       "      <td>Write a letter to your state senator in which ...</td>\n",
       "      <td># What Is the Electoral College? by the Office...</td>\n",
       "    </tr>\n",
       "  </tbody>\n",
       "</table>\n",
       "</div>"
      ],
      "text/plain": [
       "   prompt_id                       prompt_name  \\\n",
       "0          0                   Car-free cities   \n",
       "1          1  Does the electoral college work?   \n",
       "\n",
       "                                        instructions  \\\n",
       "0  Write an explanatory essay to inform fellow ci...   \n",
       "1  Write a letter to your state senator in which ...   \n",
       "\n",
       "                                         source_text  \n",
       "0  # In German Suburb, Life Goes On Without Cars ...  \n",
       "1  # What Is the Electoral College? by the Office...  "
      ]
     },
     "execution_count": 8,
     "metadata": {},
     "output_type": "execute_result"
    }
   ],
   "source": [
    "train_prompts.head()"
   ]
  },
  {
   "cell_type": "code",
   "execution_count": 9,
   "id": "51abfd57",
   "metadata": {
    "execution": {
     "iopub.execute_input": "2023-11-01T15:00:31.438408Z",
     "iopub.status.busy": "2023-11-01T15:00:31.438097Z",
     "iopub.status.idle": "2023-11-01T15:00:31.443920Z",
     "shell.execute_reply": "2023-11-01T15:00:31.443133Z"
    },
    "papermill": {
     "duration": 0.022471,
     "end_time": "2023-11-01T15:00:31.445990",
     "exception": false,
     "start_time": "2023-11-01T15:00:31.423519",
     "status": "completed"
    },
    "tags": []
   },
   "outputs": [
    {
     "data": {
      "text/plain": [
       "((1378, 4), (2, 4), (3, 3))"
      ]
     },
     "execution_count": 9,
     "metadata": {},
     "output_type": "execute_result"
    }
   ],
   "source": [
    "train_essay.shape,train_prompts.shape, test_essay.shape"
   ]
  },
  {
   "cell_type": "code",
   "execution_count": 10,
   "id": "bb0faf00",
   "metadata": {
    "execution": {
     "iopub.execute_input": "2023-11-01T15:00:31.473076Z",
     "iopub.status.busy": "2023-11-01T15:00:31.472787Z",
     "iopub.status.idle": "2023-11-01T15:00:31.490586Z",
     "shell.execute_reply": "2023-11-01T15:00:31.489872Z"
    },
    "papermill": {
     "duration": 0.033482,
     "end_time": "2023-11-01T15:00:31.492522",
     "exception": false,
     "start_time": "2023-11-01T15:00:31.459040",
     "status": "completed"
    },
    "tags": []
   },
   "outputs": [],
   "source": [
    "df = pd.merge(train_essay, train_prompts, on=\"prompt_id\")"
   ]
  },
  {
   "cell_type": "code",
   "execution_count": 11,
   "id": "fc6f8062",
   "metadata": {
    "execution": {
     "iopub.execute_input": "2023-11-01T15:00:31.519874Z",
     "iopub.status.busy": "2023-11-01T15:00:31.519604Z",
     "iopub.status.idle": "2023-11-01T15:00:31.532618Z",
     "shell.execute_reply": "2023-11-01T15:00:31.531760Z"
    },
    "papermill": {
     "duration": 0.029056,
     "end_time": "2023-11-01T15:00:31.534547",
     "exception": false,
     "start_time": "2023-11-01T15:00:31.505491",
     "status": "completed"
    },
    "tags": []
   },
   "outputs": [
    {
     "data": {
      "text/html": [
       "<div>\n",
       "<style scoped>\n",
       "    .dataframe tbody tr th:only-of-type {\n",
       "        vertical-align: middle;\n",
       "    }\n",
       "\n",
       "    .dataframe tbody tr th {\n",
       "        vertical-align: top;\n",
       "    }\n",
       "\n",
       "    .dataframe thead th {\n",
       "        text-align: right;\n",
       "    }\n",
       "</style>\n",
       "<table border=\"1\" class=\"dataframe\">\n",
       "  <thead>\n",
       "    <tr style=\"text-align: right;\">\n",
       "      <th></th>\n",
       "      <th>id</th>\n",
       "      <th>prompt_id</th>\n",
       "      <th>text</th>\n",
       "      <th>generated</th>\n",
       "      <th>prompt_name</th>\n",
       "      <th>instructions</th>\n",
       "      <th>source_text</th>\n",
       "    </tr>\n",
       "  </thead>\n",
       "  <tbody>\n",
       "    <tr>\n",
       "      <th>0</th>\n",
       "      <td>0059830c</td>\n",
       "      <td>0</td>\n",
       "      <td>Cars. Cars have been around since they became ...</td>\n",
       "      <td>0.0</td>\n",
       "      <td>Car-free cities</td>\n",
       "      <td>Write an explanatory essay to inform fellow ci...</td>\n",
       "      <td># In German Suburb, Life Goes On Without Cars ...</td>\n",
       "    </tr>\n",
       "    <tr>\n",
       "      <th>1</th>\n",
       "      <td>005db917</td>\n",
       "      <td>0</td>\n",
       "      <td>Transportation is a large necessity in most co...</td>\n",
       "      <td>0.0</td>\n",
       "      <td>Car-free cities</td>\n",
       "      <td>Write an explanatory essay to inform fellow ci...</td>\n",
       "      <td># In German Suburb, Life Goes On Without Cars ...</td>\n",
       "    </tr>\n",
       "    <tr>\n",
       "      <th>2</th>\n",
       "      <td>008f63e3</td>\n",
       "      <td>0</td>\n",
       "      <td>\"America's love affair with it's vehicles seem...</td>\n",
       "      <td>0.0</td>\n",
       "      <td>Car-free cities</td>\n",
       "      <td>Write an explanatory essay to inform fellow ci...</td>\n",
       "      <td># In German Suburb, Life Goes On Without Cars ...</td>\n",
       "    </tr>\n",
       "    <tr>\n",
       "      <th>3</th>\n",
       "      <td>00940276</td>\n",
       "      <td>0</td>\n",
       "      <td>How often do you ride in a car? Do you drive a...</td>\n",
       "      <td>0.0</td>\n",
       "      <td>Car-free cities</td>\n",
       "      <td>Write an explanatory essay to inform fellow ci...</td>\n",
       "      <td># In German Suburb, Life Goes On Without Cars ...</td>\n",
       "    </tr>\n",
       "    <tr>\n",
       "      <th>4</th>\n",
       "      <td>00c39458</td>\n",
       "      <td>0</td>\n",
       "      <td>Cars are a wonderful thing. They are perhaps o...</td>\n",
       "      <td>0.0</td>\n",
       "      <td>Car-free cities</td>\n",
       "      <td>Write an explanatory essay to inform fellow ci...</td>\n",
       "      <td># In German Suburb, Life Goes On Without Cars ...</td>\n",
       "    </tr>\n",
       "  </tbody>\n",
       "</table>\n",
       "</div>"
      ],
      "text/plain": [
       "         id  prompt_id                                               text  \\\n",
       "0  0059830c          0  Cars. Cars have been around since they became ...   \n",
       "1  005db917          0  Transportation is a large necessity in most co...   \n",
       "2  008f63e3          0  \"America's love affair with it's vehicles seem...   \n",
       "3  00940276          0  How often do you ride in a car? Do you drive a...   \n",
       "4  00c39458          0  Cars are a wonderful thing. They are perhaps o...   \n",
       "\n",
       "   generated      prompt_name  \\\n",
       "0        0.0  Car-free cities   \n",
       "1        0.0  Car-free cities   \n",
       "2        0.0  Car-free cities   \n",
       "3        0.0  Car-free cities   \n",
       "4        0.0  Car-free cities   \n",
       "\n",
       "                                        instructions  \\\n",
       "0  Write an explanatory essay to inform fellow ci...   \n",
       "1  Write an explanatory essay to inform fellow ci...   \n",
       "2  Write an explanatory essay to inform fellow ci...   \n",
       "3  Write an explanatory essay to inform fellow ci...   \n",
       "4  Write an explanatory essay to inform fellow ci...   \n",
       "\n",
       "                                         source_text  \n",
       "0  # In German Suburb, Life Goes On Without Cars ...  \n",
       "1  # In German Suburb, Life Goes On Without Cars ...  \n",
       "2  # In German Suburb, Life Goes On Without Cars ...  \n",
       "3  # In German Suburb, Life Goes On Without Cars ...  \n",
       "4  # In German Suburb, Life Goes On Without Cars ...  "
      ]
     },
     "execution_count": 11,
     "metadata": {},
     "output_type": "execute_result"
    }
   ],
   "source": [
    "df.head()"
   ]
  },
  {
   "cell_type": "code",
   "execution_count": 12,
   "id": "0c55b1f2",
   "metadata": {
    "execution": {
     "iopub.execute_input": "2023-11-01T15:00:31.611204Z",
     "iopub.status.busy": "2023-11-01T15:00:31.610343Z",
     "iopub.status.idle": "2023-11-01T15:00:31.634519Z",
     "shell.execute_reply": "2023-11-01T15:00:31.633455Z"
    },
    "papermill": {
     "duration": 0.040717,
     "end_time": "2023-11-01T15:00:31.636613",
     "exception": false,
     "start_time": "2023-11-01T15:00:31.595896",
     "status": "completed"
    },
    "tags": []
   },
   "outputs": [
    {
     "data": {
      "text/html": [
       "<div>\n",
       "<style scoped>\n",
       "    .dataframe tbody tr th:only-of-type {\n",
       "        vertical-align: middle;\n",
       "    }\n",
       "\n",
       "    .dataframe tbody tr th {\n",
       "        vertical-align: top;\n",
       "    }\n",
       "\n",
       "    .dataframe thead th {\n",
       "        text-align: right;\n",
       "    }\n",
       "</style>\n",
       "<table border=\"1\" class=\"dataframe\">\n",
       "  <thead>\n",
       "    <tr style=\"text-align: right;\">\n",
       "      <th></th>\n",
       "      <th>id</th>\n",
       "      <th>text</th>\n",
       "      <th>prompt_name</th>\n",
       "      <th>instructions</th>\n",
       "      <th>source_text</th>\n",
       "    </tr>\n",
       "  </thead>\n",
       "  <tbody>\n",
       "    <tr>\n",
       "      <th>count</th>\n",
       "      <td>1378</td>\n",
       "      <td>1378</td>\n",
       "      <td>1378</td>\n",
       "      <td>1378</td>\n",
       "      <td>1378</td>\n",
       "    </tr>\n",
       "    <tr>\n",
       "      <th>unique</th>\n",
       "      <td>1378</td>\n",
       "      <td>1378</td>\n",
       "      <td>2</td>\n",
       "      <td>2</td>\n",
       "      <td>2</td>\n",
       "    </tr>\n",
       "    <tr>\n",
       "      <th>top</th>\n",
       "      <td>0059830c</td>\n",
       "      <td>Cars. Cars have been around since they became ...</td>\n",
       "      <td>Car-free cities</td>\n",
       "      <td>Write an explanatory essay to inform fellow ci...</td>\n",
       "      <td># In German Suburb, Life Goes On Without Cars ...</td>\n",
       "    </tr>\n",
       "    <tr>\n",
       "      <th>freq</th>\n",
       "      <td>1</td>\n",
       "      <td>1</td>\n",
       "      <td>708</td>\n",
       "      <td>708</td>\n",
       "      <td>708</td>\n",
       "    </tr>\n",
       "  </tbody>\n",
       "</table>\n",
       "</div>"
      ],
      "text/plain": [
       "              id                                               text  \\\n",
       "count       1378                                               1378   \n",
       "unique      1378                                               1378   \n",
       "top     0059830c  Cars. Cars have been around since they became ...   \n",
       "freq           1                                                  1   \n",
       "\n",
       "            prompt_name                                       instructions  \\\n",
       "count              1378                                               1378   \n",
       "unique                2                                                  2   \n",
       "top     Car-free cities  Write an explanatory essay to inform fellow ci...   \n",
       "freq                708                                                708   \n",
       "\n",
       "                                              source_text  \n",
       "count                                                1378  \n",
       "unique                                                  2  \n",
       "top     # In German Suburb, Life Goes On Without Cars ...  \n",
       "freq                                                  708  "
      ]
     },
     "execution_count": 12,
     "metadata": {},
     "output_type": "execute_result"
    }
   ],
   "source": [
    "df.describe(include=\"object\")"
   ]
  },
  {
   "cell_type": "code",
   "execution_count": 13,
   "id": "d402e7a4",
   "metadata": {
    "execution": {
     "iopub.execute_input": "2023-11-01T15:00:31.664862Z",
     "iopub.status.busy": "2023-11-01T15:00:31.664578Z",
     "iopub.status.idle": "2023-11-01T15:00:31.672793Z",
     "shell.execute_reply": "2023-11-01T15:00:31.671977Z"
    },
    "papermill": {
     "duration": 0.024485,
     "end_time": "2023-11-01T15:00:31.674745",
     "exception": false,
     "start_time": "2023-11-01T15:00:31.650260",
     "status": "completed"
    },
    "tags": []
   },
   "outputs": [],
   "source": [
    "# df['input'] = 'TEXT: ' + df['text'] + '; PROMPT_NAME: ' + df['prompt_name'] + '; PROMPT_INSTRUCTION: ' + df['instructions'] + '; PROMPT_SOURCE: ' + df['source_text']\n",
    "df['input'] = 'TEXT: ' + df['text'] "
   ]
  },
  {
   "cell_type": "markdown",
   "id": "bd093640",
   "metadata": {
    "papermill": {
     "duration": 0.013569,
     "end_time": "2023-11-01T15:00:31.701966",
     "exception": false,
     "start_time": "2023-11-01T15:00:31.688397",
     "status": "completed"
    },
    "tags": []
   },
   "source": [
    "## Tokenization"
   ]
  },
  {
   "cell_type": "markdown",
   "id": "1828e138",
   "metadata": {
    "papermill": {
     "duration": 0.013279,
     "end_time": "2023-11-01T15:00:31.728885",
     "exception": false,
     "start_time": "2023-11-01T15:00:31.715606",
     "status": "completed"
    },
    "tags": []
   },
   "source": [
    "A dataset object is used for storing datasets in transformers."
   ]
  },
  {
   "cell_type": "code",
   "execution_count": 14,
   "id": "aa8a8fc9",
   "metadata": {
    "execution": {
     "iopub.execute_input": "2023-11-01T15:00:31.757260Z",
     "iopub.status.busy": "2023-11-01T15:00:31.756884Z",
     "iopub.status.idle": "2023-11-01T15:00:44.545616Z",
     "shell.execute_reply": "2023-11-01T15:00:44.544575Z"
    },
    "papermill": {
     "duration": 12.805629,
     "end_time": "2023-11-01T15:00:44.548009",
     "exception": false,
     "start_time": "2023-11-01T15:00:31.742380",
     "status": "completed"
    },
    "tags": []
   },
   "outputs": [
    {
     "name": "stdout",
     "output_type": "stream",
     "text": [
      "Requirement already satisfied: datasets in /opt/conda/lib/python3.10/site-packages (2.1.0)\r\n",
      "Requirement already satisfied: numpy>=1.17 in /opt/conda/lib/python3.10/site-packages (from datasets) (1.23.5)\r\n",
      "Requirement already satisfied: pyarrow>=5.0.0 in /opt/conda/lib/python3.10/site-packages (from datasets) (11.0.0)\r\n",
      "Requirement already satisfied: dill in /opt/conda/lib/python3.10/site-packages (from datasets) (0.3.7)\r\n",
      "Requirement already satisfied: pandas in /opt/conda/lib/python3.10/site-packages (from datasets) (2.0.2)\r\n",
      "Requirement already satisfied: requests>=2.19.0 in /opt/conda/lib/python3.10/site-packages (from datasets) (2.31.0)\r\n",
      "Requirement already satisfied: tqdm>=4.62.1 in /opt/conda/lib/python3.10/site-packages (from datasets) (4.66.1)\r\n",
      "Requirement already satisfied: xxhash in /opt/conda/lib/python3.10/site-packages (from datasets) (3.3.0)\r\n",
      "Requirement already satisfied: multiprocess in /opt/conda/lib/python3.10/site-packages (from datasets) (0.70.15)\r\n",
      "Requirement already satisfied: fsspec[http]>=2021.05.0 in /opt/conda/lib/python3.10/site-packages (from datasets) (2023.9.0)\r\n",
      "Requirement already satisfied: aiohttp in /opt/conda/lib/python3.10/site-packages (from datasets) (3.8.4)\r\n",
      "Requirement already satisfied: huggingface-hub<1.0.0,>=0.1.0 in /opt/conda/lib/python3.10/site-packages (from datasets) (0.16.4)\r\n",
      "Requirement already satisfied: packaging in /opt/conda/lib/python3.10/site-packages (from datasets) (21.3)\r\n",
      "Requirement already satisfied: responses<0.19 in /opt/conda/lib/python3.10/site-packages (from datasets) (0.18.0)\r\n",
      "Requirement already satisfied: attrs>=17.3.0 in /opt/conda/lib/python3.10/site-packages (from aiohttp->datasets) (23.1.0)\r\n",
      "Requirement already satisfied: charset-normalizer<4.0,>=2.0 in /opt/conda/lib/python3.10/site-packages (from aiohttp->datasets) (3.1.0)\r\n",
      "Requirement already satisfied: multidict<7.0,>=4.5 in /opt/conda/lib/python3.10/site-packages (from aiohttp->datasets) (6.0.4)\r\n",
      "Requirement already satisfied: async-timeout<5.0,>=4.0.0a3 in /opt/conda/lib/python3.10/site-packages (from aiohttp->datasets) (4.0.2)\r\n",
      "Requirement already satisfied: yarl<2.0,>=1.0 in /opt/conda/lib/python3.10/site-packages (from aiohttp->datasets) (1.9.2)\r\n",
      "Requirement already satisfied: frozenlist>=1.1.1 in /opt/conda/lib/python3.10/site-packages (from aiohttp->datasets) (1.3.3)\r\n",
      "Requirement already satisfied: aiosignal>=1.1.2 in /opt/conda/lib/python3.10/site-packages (from aiohttp->datasets) (1.3.1)\r\n",
      "Requirement already satisfied: filelock in /opt/conda/lib/python3.10/site-packages (from huggingface-hub<1.0.0,>=0.1.0->datasets) (3.12.2)\r\n",
      "Requirement already satisfied: pyyaml>=5.1 in /opt/conda/lib/python3.10/site-packages (from huggingface-hub<1.0.0,>=0.1.0->datasets) (6.0)\r\n",
      "Requirement already satisfied: typing-extensions>=3.7.4.3 in /opt/conda/lib/python3.10/site-packages (from huggingface-hub<1.0.0,>=0.1.0->datasets) (4.6.3)\r\n",
      "Requirement already satisfied: pyparsing!=3.0.5,>=2.0.2 in /opt/conda/lib/python3.10/site-packages (from packaging->datasets) (3.0.9)\r\n",
      "Requirement already satisfied: idna<4,>=2.5 in /opt/conda/lib/python3.10/site-packages (from requests>=2.19.0->datasets) (3.4)\r\n",
      "Requirement already satisfied: urllib3<3,>=1.21.1 in /opt/conda/lib/python3.10/site-packages (from requests>=2.19.0->datasets) (1.26.15)\r\n",
      "Requirement already satisfied: certifi>=2017.4.17 in /opt/conda/lib/python3.10/site-packages (from requests>=2.19.0->datasets) (2023.7.22)\r\n",
      "Requirement already satisfied: python-dateutil>=2.8.2 in /opt/conda/lib/python3.10/site-packages (from pandas->datasets) (2.8.2)\r\n",
      "Requirement already satisfied: pytz>=2020.1 in /opt/conda/lib/python3.10/site-packages (from pandas->datasets) (2023.3)\r\n",
      "Requirement already satisfied: tzdata>=2022.1 in /opt/conda/lib/python3.10/site-packages (from pandas->datasets) (2023.3)\r\n",
      "Requirement already satisfied: six>=1.5 in /opt/conda/lib/python3.10/site-packages (from python-dateutil>=2.8.2->pandas->datasets) (1.16.0)\r\n"
     ]
    }
   ],
   "source": [
    "!pip install datasets"
   ]
  },
  {
   "cell_type": "code",
   "execution_count": 15,
   "id": "9ec73022",
   "metadata": {
    "execution": {
     "iopub.execute_input": "2023-11-01T15:00:44.578695Z",
     "iopub.status.busy": "2023-11-01T15:00:44.578356Z",
     "iopub.status.idle": "2023-11-01T15:00:45.512006Z",
     "shell.execute_reply": "2023-11-01T15:00:45.510995Z"
    },
    "papermill": {
     "duration": 0.951907,
     "end_time": "2023-11-01T15:00:45.514461",
     "exception": false,
     "start_time": "2023-11-01T15:00:44.562554",
     "status": "completed"
    },
    "tags": []
   },
   "outputs": [],
   "source": [
    "from datasets import Dataset, DatasetDict\n",
    "\n",
    "ds = Dataset.from_pandas(df)"
   ]
  },
  {
   "cell_type": "code",
   "execution_count": 16,
   "id": "dde72be5",
   "metadata": {
    "execution": {
     "iopub.execute_input": "2023-11-01T15:00:45.544847Z",
     "iopub.status.busy": "2023-11-01T15:00:45.544405Z",
     "iopub.status.idle": "2023-11-01T15:00:45.550368Z",
     "shell.execute_reply": "2023-11-01T15:00:45.549566Z"
    },
    "papermill": {
     "duration": 0.022919,
     "end_time": "2023-11-01T15:00:45.552235",
     "exception": false,
     "start_time": "2023-11-01T15:00:45.529316",
     "status": "completed"
    },
    "tags": []
   },
   "outputs": [
    {
     "data": {
      "text/plain": [
       "Dataset({\n",
       "    features: ['id', 'prompt_id', 'text', 'generated', 'prompt_name', 'instructions', 'source_text', 'input'],\n",
       "    num_rows: 1378\n",
       "})"
      ]
     },
     "execution_count": 16,
     "metadata": {},
     "output_type": "execute_result"
    }
   ],
   "source": [
    "ds"
   ]
  },
  {
   "cell_type": "code",
   "execution_count": 17,
   "id": "110d0ad9",
   "metadata": {
    "execution": {
     "iopub.execute_input": "2023-11-01T15:00:45.581881Z",
     "iopub.status.busy": "2023-11-01T15:00:45.581584Z",
     "iopub.status.idle": "2023-11-01T15:00:49.109693Z",
     "shell.execute_reply": "2023-11-01T15:00:49.108796Z"
    },
    "papermill": {
     "duration": 3.545469,
     "end_time": "2023-11-01T15:00:49.111917",
     "exception": false,
     "start_time": "2023-11-01T15:00:45.566448",
     "status": "completed"
    },
    "tags": []
   },
   "outputs": [
    {
     "data": {
      "text/plain": [
       "0"
      ]
     },
     "execution_count": 17,
     "metadata": {},
     "output_type": "execute_result"
    }
   ],
   "source": [
    "import torch\n",
    "import gc\n",
    "\n",
    "torch.cuda.empty_cache()\n",
    "gc.collect()"
   ]
  },
  {
   "cell_type": "code",
   "execution_count": 18,
   "id": "35f0a7c2",
   "metadata": {
    "execution": {
     "iopub.execute_input": "2023-11-01T15:00:49.143120Z",
     "iopub.status.busy": "2023-11-01T15:00:49.142652Z",
     "iopub.status.idle": "2023-11-01T15:00:49.146896Z",
     "shell.execute_reply": "2023-11-01T15:00:49.146065Z"
    },
    "papermill": {
     "duration": 0.02195,
     "end_time": "2023-11-01T15:00:49.148875",
     "exception": false,
     "start_time": "2023-11-01T15:00:49.126925",
     "status": "completed"
    },
    "tags": []
   },
   "outputs": [],
   "source": [
    "model_nm = 'microsoft/deberta-v3-small'"
   ]
  },
  {
   "cell_type": "code",
   "execution_count": 19,
   "id": "c2531569",
   "metadata": {
    "execution": {
     "iopub.execute_input": "2023-11-01T15:00:49.180383Z",
     "iopub.status.busy": "2023-11-01T15:00:49.180069Z",
     "iopub.status.idle": "2023-11-01T15:00:53.198955Z",
     "shell.execute_reply": "2023-11-01T15:00:53.197985Z"
    },
    "papermill": {
     "duration": 4.037189,
     "end_time": "2023-11-01T15:00:53.200985",
     "exception": false,
     "start_time": "2023-11-01T15:00:49.163796",
     "status": "completed"
    },
    "tags": []
   },
   "outputs": [
    {
     "data": {
      "application/vnd.jupyter.widget-view+json": {
       "model_id": "f84f644c3c5c4c438ef7118b992b47c7",
       "version_major": 2,
       "version_minor": 0
      },
      "text/plain": [
       "Downloading (…)okenizer_config.json:   0%|          | 0.00/52.0 [00:00<?, ?B/s]"
      ]
     },
     "metadata": {},
     "output_type": "display_data"
    },
    {
     "data": {
      "application/vnd.jupyter.widget-view+json": {
       "model_id": "7869454f795e45b3bfef4d12c48a6f57",
       "version_major": 2,
       "version_minor": 0
      },
      "text/plain": [
       "Downloading (…)lve/main/config.json:   0%|          | 0.00/578 [00:00<?, ?B/s]"
      ]
     },
     "metadata": {},
     "output_type": "display_data"
    },
    {
     "data": {
      "application/vnd.jupyter.widget-view+json": {
       "model_id": "3a109fe876a448c58380db4a57a68f22",
       "version_major": 2,
       "version_minor": 0
      },
      "text/plain": [
       "Downloading spm.model:   0%|          | 0.00/2.46M [00:00<?, ?B/s]"
      ]
     },
     "metadata": {},
     "output_type": "display_data"
    },
    {
     "name": "stderr",
     "output_type": "stream",
     "text": [
      "Special tokens have been added in the vocabulary, make sure the associated word embeddings are fine-tuned or trained.\n",
      "Special tokens have been added in the vocabulary, make sure the associated word embeddings are fine-tuned or trained.\n"
     ]
    }
   ],
   "source": [
    "from transformers import AutoModelForSequenceClassification, AutoTokenizer\n",
    "\n",
    "tok = AutoTokenizer.from_pretrained(model_nm)"
   ]
  },
  {
   "cell_type": "code",
   "execution_count": 20,
   "id": "67857992",
   "metadata": {
    "execution": {
     "iopub.execute_input": "2023-11-01T15:00:53.233188Z",
     "iopub.status.busy": "2023-11-01T15:00:53.232681Z",
     "iopub.status.idle": "2023-11-01T15:00:53.242168Z",
     "shell.execute_reply": "2023-11-01T15:00:53.241388Z"
    },
    "papermill": {
     "duration": 0.027749,
     "end_time": "2023-11-01T15:00:53.244032",
     "exception": false,
     "start_time": "2023-11-01T15:00:53.216283",
     "status": "completed"
    },
    "tags": []
   },
   "outputs": [
    {
     "data": {
      "text/plain": [
       "['▁Welcome', '▁to', '▁my', '▁notebook', '!']"
      ]
     },
     "execution_count": 20,
     "metadata": {},
     "output_type": "execute_result"
    }
   ],
   "source": [
    "tok.tokenize('Welcome to my notebook!')"
   ]
  },
  {
   "cell_type": "code",
   "execution_count": 21,
   "id": "50735a96",
   "metadata": {
    "execution": {
     "iopub.execute_input": "2023-11-01T15:00:53.275352Z",
     "iopub.status.busy": "2023-11-01T15:00:53.275071Z",
     "iopub.status.idle": "2023-11-01T15:00:53.279037Z",
     "shell.execute_reply": "2023-11-01T15:00:53.278131Z"
    },
    "papermill": {
     "duration": 0.021744,
     "end_time": "2023-11-01T15:00:53.280955",
     "exception": false,
     "start_time": "2023-11-01T15:00:53.259211",
     "status": "completed"
    },
    "tags": []
   },
   "outputs": [],
   "source": [
    "# A simple function to tokenize input\n",
    "def tokenize_input(data): return tok(data[\"input\"])"
   ]
  },
  {
   "cell_type": "code",
   "execution_count": 22,
   "id": "18897af6",
   "metadata": {
    "execution": {
     "iopub.execute_input": "2023-11-01T15:00:53.312033Z",
     "iopub.status.busy": "2023-11-01T15:00:53.311723Z",
     "iopub.status.idle": "2023-11-01T15:00:55.175225Z",
     "shell.execute_reply": "2023-11-01T15:00:55.174257Z"
    },
    "papermill": {
     "duration": 1.881337,
     "end_time": "2023-11-01T15:00:55.177239",
     "exception": false,
     "start_time": "2023-11-01T15:00:53.295902",
     "status": "completed"
    },
    "tags": []
   },
   "outputs": [
    {
     "data": {
      "application/vnd.jupyter.widget-view+json": {
       "model_id": "05af682b358e4f5b895fc8e96666a6fd",
       "version_major": 2,
       "version_minor": 0
      },
      "text/plain": [
       "  0%|          | 0/2 [00:00<?, ?ba/s]"
      ]
     },
     "metadata": {},
     "output_type": "display_data"
    }
   ],
   "source": [
    "# map runs the tokenize function to every row in the dataset in parallel\n",
    "tok_ds = ds.map(tokenize_input, batched=True)"
   ]
  },
  {
   "cell_type": "code",
   "execution_count": 23,
   "id": "cf149885",
   "metadata": {
    "execution": {
     "iopub.execute_input": "2023-11-01T15:00:55.209497Z",
     "iopub.status.busy": "2023-11-01T15:00:55.209193Z",
     "iopub.status.idle": "2023-11-01T15:00:55.215049Z",
     "shell.execute_reply": "2023-11-01T15:00:55.214195Z"
    },
    "papermill": {
     "duration": 0.024274,
     "end_time": "2023-11-01T15:00:55.217061",
     "exception": false,
     "start_time": "2023-11-01T15:00:55.192787",
     "status": "completed"
    },
    "tags": []
   },
   "outputs": [],
   "source": [
    "row = tok_ds[0]\n",
    "# Uncomment the following line to look at the input ids\n",
    "# row['input'], row['input_ids']"
   ]
  },
  {
   "cell_type": "code",
   "execution_count": 24,
   "id": "15d2f95c",
   "metadata": {
    "execution": {
     "iopub.execute_input": "2023-11-01T15:00:55.249459Z",
     "iopub.status.busy": "2023-11-01T15:00:55.248651Z",
     "iopub.status.idle": "2023-11-01T15:00:55.334243Z",
     "shell.execute_reply": "2023-11-01T15:00:55.333500Z"
    },
    "papermill": {
     "duration": 0.104126,
     "end_time": "2023-11-01T15:00:55.336443",
     "exception": false,
     "start_time": "2023-11-01T15:00:55.232317",
     "status": "completed"
    },
    "tags": []
   },
   "outputs": [
    {
     "data": {
      "text/plain": [
       "34103"
      ]
     },
     "execution_count": 24,
     "metadata": {},
     "output_type": "execute_result"
    }
   ],
   "source": [
    "tok.vocab['cars']"
   ]
  },
  {
   "cell_type": "code",
   "execution_count": 25,
   "id": "92ad9e8c",
   "metadata": {
    "execution": {
     "iopub.execute_input": "2023-11-01T15:00:55.369681Z",
     "iopub.status.busy": "2023-11-01T15:00:55.368929Z",
     "iopub.status.idle": "2023-11-01T15:00:55.374546Z",
     "shell.execute_reply": "2023-11-01T15:00:55.373743Z"
    },
    "papermill": {
     "duration": 0.023751,
     "end_time": "2023-11-01T15:00:55.376368",
     "exception": false,
     "start_time": "2023-11-01T15:00:55.352617",
     "status": "completed"
    },
    "tags": []
   },
   "outputs": [
    {
     "data": {
      "text/plain": [
       "Dataset({\n",
       "    features: ['id', 'prompt_id', 'text', 'generated', 'prompt_name', 'instructions', 'source_text', 'input', 'input_ids', 'token_type_ids', 'attention_mask'],\n",
       "    num_rows: 1378\n",
       "})"
      ]
     },
     "execution_count": 25,
     "metadata": {},
     "output_type": "execute_result"
    }
   ],
   "source": [
    "tok_ds"
   ]
  },
  {
   "cell_type": "code",
   "execution_count": 26,
   "id": "499a9fed",
   "metadata": {
    "execution": {
     "iopub.execute_input": "2023-11-01T15:00:55.408877Z",
     "iopub.status.busy": "2023-11-01T15:00:55.408562Z",
     "iopub.status.idle": "2023-11-01T15:00:55.414686Z",
     "shell.execute_reply": "2023-11-01T15:00:55.413975Z"
    },
    "papermill": {
     "duration": 0.024662,
     "end_time": "2023-11-01T15:00:55.416536",
     "exception": false,
     "start_time": "2023-11-01T15:00:55.391874",
     "status": "completed"
    },
    "tags": []
   },
   "outputs": [],
   "source": [
    "# Transformers expects to have the labels to have the column name of 'labels'\n",
    "tok_ds = tok_ds.rename_columns({'generated': 'labels'})"
   ]
  },
  {
   "cell_type": "code",
   "execution_count": 27,
   "id": "6d9b641f",
   "metadata": {
    "execution": {
     "iopub.execute_input": "2023-11-01T15:00:55.449130Z",
     "iopub.status.busy": "2023-11-01T15:00:55.448850Z",
     "iopub.status.idle": "2023-11-01T15:00:55.454572Z",
     "shell.execute_reply": "2023-11-01T15:00:55.453689Z"
    },
    "papermill": {
     "duration": 0.024014,
     "end_time": "2023-11-01T15:00:55.456445",
     "exception": false,
     "start_time": "2023-11-01T15:00:55.432431",
     "status": "completed"
    },
    "tags": []
   },
   "outputs": [
    {
     "data": {
      "text/plain": [
       "Dataset({\n",
       "    features: ['id', 'prompt_id', 'text', 'labels', 'prompt_name', 'instructions', 'source_text', 'input', 'input_ids', 'token_type_ids', 'attention_mask'],\n",
       "    num_rows: 1378\n",
       "})"
      ]
     },
     "execution_count": 27,
     "metadata": {},
     "output_type": "execute_result"
    }
   ],
   "source": [
    "tok_ds"
   ]
  },
  {
   "cell_type": "markdown",
   "id": "ea550ab1",
   "metadata": {
    "papermill": {
     "duration": 0.015359,
     "end_time": "2023-11-01T15:00:55.487436",
     "exception": false,
     "start_time": "2023-11-01T15:00:55.472077",
     "status": "completed"
    },
    "tags": []
   },
   "source": [
    "## Splittind the data into test and validation sets"
   ]
  },
  {
   "cell_type": "code",
   "execution_count": 28,
   "id": "cb38fcaa",
   "metadata": {
    "execution": {
     "iopub.execute_input": "2023-11-01T15:00:55.520912Z",
     "iopub.status.busy": "2023-11-01T15:00:55.520239Z",
     "iopub.status.idle": "2023-11-01T15:00:55.524817Z",
     "shell.execute_reply": "2023-11-01T15:00:55.523928Z"
    },
    "papermill": {
     "duration": 0.023815,
     "end_time": "2023-11-01T15:00:55.526846",
     "exception": false,
     "start_time": "2023-11-01T15:00:55.503031",
     "status": "completed"
    },
    "tags": []
   },
   "outputs": [],
   "source": [
    "eval_df = test_essay.copy()"
   ]
  },
  {
   "cell_type": "code",
   "execution_count": 29,
   "id": "83b81b32",
   "metadata": {
    "execution": {
     "iopub.execute_input": "2023-11-01T15:00:55.559808Z",
     "iopub.status.busy": "2023-11-01T15:00:55.559506Z",
     "iopub.status.idle": "2023-11-01T15:00:55.572078Z",
     "shell.execute_reply": "2023-11-01T15:00:55.571224Z"
    },
    "papermill": {
     "duration": 0.031028,
     "end_time": "2023-11-01T15:00:55.574078",
     "exception": false,
     "start_time": "2023-11-01T15:00:55.543050",
     "status": "completed"
    },
    "tags": []
   },
   "outputs": [
    {
     "data": {
      "text/html": [
       "<div>\n",
       "<style scoped>\n",
       "    .dataframe tbody tr th:only-of-type {\n",
       "        vertical-align: middle;\n",
       "    }\n",
       "\n",
       "    .dataframe tbody tr th {\n",
       "        vertical-align: top;\n",
       "    }\n",
       "\n",
       "    .dataframe thead th {\n",
       "        text-align: right;\n",
       "    }\n",
       "</style>\n",
       "<table border=\"1\" class=\"dataframe\">\n",
       "  <thead>\n",
       "    <tr style=\"text-align: right;\">\n",
       "      <th></th>\n",
       "      <th>id</th>\n",
       "      <th>text</th>\n",
       "    </tr>\n",
       "  </thead>\n",
       "  <tbody>\n",
       "    <tr>\n",
       "      <th>count</th>\n",
       "      <td>3</td>\n",
       "      <td>3</td>\n",
       "    </tr>\n",
       "    <tr>\n",
       "      <th>unique</th>\n",
       "      <td>3</td>\n",
       "      <td>3</td>\n",
       "    </tr>\n",
       "    <tr>\n",
       "      <th>top</th>\n",
       "      <td>0000aaaa</td>\n",
       "      <td>Aaa bbb ccc.</td>\n",
       "    </tr>\n",
       "    <tr>\n",
       "      <th>freq</th>\n",
       "      <td>1</td>\n",
       "      <td>1</td>\n",
       "    </tr>\n",
       "  </tbody>\n",
       "</table>\n",
       "</div>"
      ],
      "text/plain": [
       "              id          text\n",
       "count          3             3\n",
       "unique         3             3\n",
       "top     0000aaaa  Aaa bbb ccc.\n",
       "freq           1             1"
      ]
     },
     "execution_count": 29,
     "metadata": {},
     "output_type": "execute_result"
    }
   ],
   "source": [
    "eval_df.describe(include=\"object\")"
   ]
  },
  {
   "cell_type": "code",
   "execution_count": 30,
   "id": "2f581440",
   "metadata": {
    "execution": {
     "iopub.execute_input": "2023-11-01T15:00:55.610802Z",
     "iopub.status.busy": "2023-11-01T15:00:55.610506Z",
     "iopub.status.idle": "2023-11-01T15:00:55.625234Z",
     "shell.execute_reply": "2023-11-01T15:00:55.624332Z"
    },
    "papermill": {
     "duration": 0.034218,
     "end_time": "2023-11-01T15:00:55.627209",
     "exception": false,
     "start_time": "2023-11-01T15:00:55.592991",
     "status": "completed"
    },
    "tags": []
   },
   "outputs": [
    {
     "data": {
      "text/plain": [
       "DatasetDict({\n",
       "    train: Dataset({\n",
       "        features: ['id', 'prompt_id', 'text', 'labels', 'prompt_name', 'instructions', 'source_text', 'input', 'input_ids', 'token_type_ids', 'attention_mask'],\n",
       "        num_rows: 964\n",
       "    })\n",
       "    test: Dataset({\n",
       "        features: ['id', 'prompt_id', 'text', 'labels', 'prompt_name', 'instructions', 'source_text', 'input', 'input_ids', 'token_type_ids', 'attention_mask'],\n",
       "        num_rows: 414\n",
       "    })\n",
       "})"
      ]
     },
     "execution_count": 30,
     "metadata": {},
     "output_type": "execute_result"
    }
   ],
   "source": [
    "dds = tok_ds.train_test_split(0.3, seed=42)\n",
    "dds"
   ]
  },
  {
   "cell_type": "code",
   "execution_count": 31,
   "id": "2ba7eb02",
   "metadata": {
    "execution": {
     "iopub.execute_input": "2023-11-01T15:00:55.660877Z",
     "iopub.status.busy": "2023-11-01T15:00:55.660325Z",
     "iopub.status.idle": "2023-11-01T15:00:55.665352Z",
     "shell.execute_reply": "2023-11-01T15:00:55.664511Z"
    },
    "papermill": {
     "duration": 0.023942,
     "end_time": "2023-11-01T15:00:55.667238",
     "exception": false,
     "start_time": "2023-11-01T15:00:55.643296",
     "status": "completed"
    },
    "tags": []
   },
   "outputs": [],
   "source": [
    "eval_df['input'] = 'TEXT: ' + eval_df['text'] "
   ]
  },
  {
   "cell_type": "code",
   "execution_count": 32,
   "id": "7f4dd15f",
   "metadata": {
    "execution": {
     "iopub.execute_input": "2023-11-01T15:00:55.700835Z",
     "iopub.status.busy": "2023-11-01T15:00:55.700524Z",
     "iopub.status.idle": "2023-11-01T15:00:55.710047Z",
     "shell.execute_reply": "2023-11-01T15:00:55.709211Z"
    },
    "papermill": {
     "duration": 0.028588,
     "end_time": "2023-11-01T15:00:55.711908",
     "exception": false,
     "start_time": "2023-11-01T15:00:55.683320",
     "status": "completed"
    },
    "tags": []
   },
   "outputs": [
    {
     "data": {
      "text/html": [
       "<div>\n",
       "<style scoped>\n",
       "    .dataframe tbody tr th:only-of-type {\n",
       "        vertical-align: middle;\n",
       "    }\n",
       "\n",
       "    .dataframe tbody tr th {\n",
       "        vertical-align: top;\n",
       "    }\n",
       "\n",
       "    .dataframe thead th {\n",
       "        text-align: right;\n",
       "    }\n",
       "</style>\n",
       "<table border=\"1\" class=\"dataframe\">\n",
       "  <thead>\n",
       "    <tr style=\"text-align: right;\">\n",
       "      <th></th>\n",
       "      <th>id</th>\n",
       "      <th>prompt_id</th>\n",
       "      <th>text</th>\n",
       "      <th>input</th>\n",
       "    </tr>\n",
       "  </thead>\n",
       "  <tbody>\n",
       "    <tr>\n",
       "      <th>0</th>\n",
       "      <td>0000aaaa</td>\n",
       "      <td>2</td>\n",
       "      <td>Aaa bbb ccc.</td>\n",
       "      <td>TEXT: Aaa bbb ccc.</td>\n",
       "    </tr>\n",
       "    <tr>\n",
       "      <th>1</th>\n",
       "      <td>1111bbbb</td>\n",
       "      <td>3</td>\n",
       "      <td>Bbb ccc ddd.</td>\n",
       "      <td>TEXT: Bbb ccc ddd.</td>\n",
       "    </tr>\n",
       "  </tbody>\n",
       "</table>\n",
       "</div>"
      ],
      "text/plain": [
       "         id  prompt_id          text               input\n",
       "0  0000aaaa          2  Aaa bbb ccc.  TEXT: Aaa bbb ccc.\n",
       "1  1111bbbb          3  Bbb ccc ddd.  TEXT: Bbb ccc ddd."
      ]
     },
     "execution_count": 32,
     "metadata": {},
     "output_type": "execute_result"
    }
   ],
   "source": [
    "eval_df.head(2)"
   ]
  },
  {
   "cell_type": "code",
   "execution_count": 33,
   "id": "9deb2abc",
   "metadata": {
    "execution": {
     "iopub.execute_input": "2023-11-01T15:00:55.745632Z",
     "iopub.status.busy": "2023-11-01T15:00:55.745347Z",
     "iopub.status.idle": "2023-11-01T15:00:55.772664Z",
     "shell.execute_reply": "2023-11-01T15:00:55.771769Z"
    },
    "papermill": {
     "duration": 0.04742,
     "end_time": "2023-11-01T15:00:55.775527",
     "exception": false,
     "start_time": "2023-11-01T15:00:55.728107",
     "status": "completed"
    },
    "tags": []
   },
   "outputs": [
    {
     "data": {
      "application/vnd.jupyter.widget-view+json": {
       "model_id": "37918bf95aa345bc862728576d8d2137",
       "version_major": 2,
       "version_minor": 0
      },
      "text/plain": [
       "  0%|          | 0/1 [00:00<?, ?ba/s]"
      ]
     },
     "metadata": {},
     "output_type": "display_data"
    }
   ],
   "source": [
    "eval_ds = Dataset.from_pandas(eval_df).map(tokenize_input, batched=True)"
   ]
  },
  {
   "cell_type": "code",
   "execution_count": 34,
   "id": "4856bac9",
   "metadata": {
    "execution": {
     "iopub.execute_input": "2023-11-01T15:00:55.809846Z",
     "iopub.status.busy": "2023-11-01T15:00:55.809550Z",
     "iopub.status.idle": "2023-11-01T15:00:55.815108Z",
     "shell.execute_reply": "2023-11-01T15:00:55.814299Z"
    },
    "papermill": {
     "duration": 0.024861,
     "end_time": "2023-11-01T15:00:55.817058",
     "exception": false,
     "start_time": "2023-11-01T15:00:55.792197",
     "status": "completed"
    },
    "tags": []
   },
   "outputs": [
    {
     "data": {
      "text/plain": [
       "Dataset({\n",
       "    features: ['id', 'prompt_id', 'text', 'input', 'input_ids', 'token_type_ids', 'attention_mask'],\n",
       "    num_rows: 3\n",
       "})"
      ]
     },
     "execution_count": 34,
     "metadata": {},
     "output_type": "execute_result"
    }
   ],
   "source": [
    "eval_ds"
   ]
  },
  {
   "cell_type": "markdown",
   "id": "da625f97",
   "metadata": {
    "papermill": {
     "duration": 0.016276,
     "end_time": "2023-11-01T15:00:55.849850",
     "exception": false,
     "start_time": "2023-11-01T15:00:55.833574",
     "status": "completed"
    },
    "tags": []
   },
   "source": [
    "## Training our model"
   ]
  },
  {
   "cell_type": "code",
   "execution_count": 35,
   "id": "e1a2c5de",
   "metadata": {
    "execution": {
     "iopub.execute_input": "2023-11-01T15:00:55.884659Z",
     "iopub.status.busy": "2023-11-01T15:00:55.883746Z",
     "iopub.status.idle": "2023-11-01T15:01:02.960515Z",
     "shell.execute_reply": "2023-11-01T15:01:02.959703Z"
    },
    "papermill": {
     "duration": 7.096729,
     "end_time": "2023-11-01T15:01:02.963002",
     "exception": false,
     "start_time": "2023-11-01T15:00:55.866273",
     "status": "completed"
    },
    "tags": []
   },
   "outputs": [],
   "source": [
    "from transformers import TrainingArguments, Trainer"
   ]
  },
  {
   "cell_type": "code",
   "execution_count": 36,
   "id": "4284d74f",
   "metadata": {
    "execution": {
     "iopub.execute_input": "2023-11-01T15:01:03.011320Z",
     "iopub.status.busy": "2023-11-01T15:01:03.010147Z",
     "iopub.status.idle": "2023-11-01T15:01:03.015771Z",
     "shell.execute_reply": "2023-11-01T15:01:03.014802Z"
    },
    "papermill": {
     "duration": 0.034503,
     "end_time": "2023-11-01T15:01:03.018594",
     "exception": false,
     "start_time": "2023-11-01T15:01:02.984091",
     "status": "completed"
    },
    "tags": []
   },
   "outputs": [],
   "source": [
    "batch_size=2\n",
    "epochs=2\n",
    "learning_rate=2e-5"
   ]
  },
  {
   "cell_type": "code",
   "execution_count": 37,
   "id": "2ee3f899",
   "metadata": {
    "execution": {
     "iopub.execute_input": "2023-11-01T15:01:03.059891Z",
     "iopub.status.busy": "2023-11-01T15:01:03.059574Z",
     "iopub.status.idle": "2023-11-01T15:01:03.133845Z",
     "shell.execute_reply": "2023-11-01T15:01:03.133075Z"
    },
    "papermill": {
     "duration": 0.0956,
     "end_time": "2023-11-01T15:01:03.136065",
     "exception": false,
     "start_time": "2023-11-01T15:01:03.040465",
     "status": "completed"
    },
    "tags": []
   },
   "outputs": [],
   "source": [
    "args = TrainingArguments('outputs', \n",
    "                         learning_rate=learning_rate, \n",
    "                         warmup_ratio=0.1, \n",
    "                         lr_scheduler_type='cosine', \n",
    "                         fp16=True,\n",
    "                         evaluation_strategy=\"epoch\", \n",
    "                         per_device_train_batch_size=batch_size, \n",
    "                         per_device_eval_batch_size=batch_size*2,\n",
    "                         num_train_epochs=epochs, \n",
    "                         weight_decay=0.01, \n",
    "                         report_to='none', \n",
    "                         metric_for_best_model=\"roc_auc\")"
   ]
  },
  {
   "cell_type": "code",
   "execution_count": 38,
   "id": "917233df",
   "metadata": {
    "execution": {
     "iopub.execute_input": "2023-11-01T15:01:03.171091Z",
     "iopub.status.busy": "2023-11-01T15:01:03.170513Z",
     "iopub.status.idle": "2023-11-01T15:01:06.473715Z",
     "shell.execute_reply": "2023-11-01T15:01:06.472908Z"
    },
    "papermill": {
     "duration": 3.323098,
     "end_time": "2023-11-01T15:01:06.475824",
     "exception": false,
     "start_time": "2023-11-01T15:01:03.152726",
     "status": "completed"
    },
    "tags": []
   },
   "outputs": [
    {
     "data": {
      "application/vnd.jupyter.widget-view+json": {
       "model_id": "783aba9ecac744f19758239396dd0d79",
       "version_major": 2,
       "version_minor": 0
      },
      "text/plain": [
       "Downloading pytorch_model.bin:   0%|          | 0.00/286M [00:00<?, ?B/s]"
      ]
     },
     "metadata": {},
     "output_type": "display_data"
    },
    {
     "name": "stderr",
     "output_type": "stream",
     "text": [
      "Some weights of DebertaV2ForSequenceClassification were not initialized from the model checkpoint at microsoft/deberta-v3-small and are newly initialized: ['classifier.weight', 'pooler.dense.bias', 'classifier.bias', 'pooler.dense.weight']\n",
      "You should probably TRAIN this model on a down-stream task to be able to use it for predictions and inference.\n"
     ]
    }
   ],
   "source": [
    "model = AutoModelForSequenceClassification.from_pretrained(model_nm, num_labels=1)"
   ]
  },
  {
   "cell_type": "code",
   "execution_count": 39,
   "id": "cec0393e",
   "metadata": {
    "execution": {
     "iopub.execute_input": "2023-11-01T15:01:06.511126Z",
     "iopub.status.busy": "2023-11-01T15:01:06.510766Z",
     "iopub.status.idle": "2023-11-01T15:01:06.516344Z",
     "shell.execute_reply": "2023-11-01T15:01:06.515462Z"
    },
    "papermill": {
     "duration": 0.025324,
     "end_time": "2023-11-01T15:01:06.518209",
     "exception": false,
     "start_time": "2023-11-01T15:01:06.492885",
     "status": "completed"
    },
    "tags": []
   },
   "outputs": [],
   "source": [
    "def compute_metrics(eval_pred):\n",
    "    labels = eval_pred.label_ids\n",
    "    preds = eval_pred.predictions\n",
    "\n",
    "    # If using softmax or logits, select the probabilities for the positive class.\n",
    "    # For instance, if it's binary classification and the positive class is class 1:\n",
    "    if len(preds.shape) > 1 and preds.shape[1] > 1:\n",
    "        # For binary classification, the second column represents the positive class.\n",
    "        preds = preds[:, 1]\n",
    "\n",
    "    # Calculate AUC-ROC\n",
    "    auc = metrics.roc_auc_score(labels, preds)\n",
    "    \n",
    "    return {\"auc\": auc}"
   ]
  },
  {
   "cell_type": "code",
   "execution_count": 40,
   "id": "c5ba2699",
   "metadata": {
    "execution": {
     "iopub.execute_input": "2023-11-01T15:01:06.553841Z",
     "iopub.status.busy": "2023-11-01T15:01:06.553504Z",
     "iopub.status.idle": "2023-11-01T15:01:11.709039Z",
     "shell.execute_reply": "2023-11-01T15:01:11.708134Z"
    },
    "papermill": {
     "duration": 5.175836,
     "end_time": "2023-11-01T15:01:11.711351",
     "exception": false,
     "start_time": "2023-11-01T15:01:06.535515",
     "status": "completed"
    },
    "tags": []
   },
   "outputs": [],
   "source": [
    "trainer = Trainer(model, \n",
    "                  args, \n",
    "                  train_dataset=dds['train'], \n",
    "                  eval_dataset=dds['test'],\n",
    "                  tokenizer=tok, \n",
    "                  compute_metrics=compute_metrics\n",
    "                 )"
   ]
  },
  {
   "cell_type": "code",
   "execution_count": 41,
   "id": "a92db7b0",
   "metadata": {
    "execution": {
     "iopub.execute_input": "2023-11-01T15:01:11.746748Z",
     "iopub.status.busy": "2023-11-01T15:01:11.746427Z",
     "iopub.status.idle": "2023-11-01T15:05:10.304564Z",
     "shell.execute_reply": "2023-11-01T15:05:10.303630Z"
    },
    "papermill": {
     "duration": 238.578067,
     "end_time": "2023-11-01T15:05:10.306519",
     "exception": false,
     "start_time": "2023-11-01T15:01:11.728452",
     "status": "completed"
    },
    "tags": []
   },
   "outputs": [
    {
     "name": "stderr",
     "output_type": "stream",
     "text": [
      "You're using a DebertaV2TokenizerFast tokenizer. Please note that with a fast tokenizer, using the `__call__` method is faster than using a method to encode the text followed by a call to the `pad` method to get a padded encoding.\n"
     ]
    },
    {
     "data": {
      "text/html": [
       "\n",
       "    <div>\n",
       "      \n",
       "      <progress value='964' max='964' style='width:300px; height:20px; vertical-align: middle;'></progress>\n",
       "      [964/964 03:56, Epoch 2/2]\n",
       "    </div>\n",
       "    <table border=\"1\" class=\"dataframe\">\n",
       "  <thead>\n",
       " <tr style=\"text-align: left;\">\n",
       "      <th>Epoch</th>\n",
       "      <th>Training Loss</th>\n",
       "      <th>Validation Loss</th>\n",
       "      <th>Auc</th>\n",
       "    </tr>\n",
       "  </thead>\n",
       "  <tbody>\n",
       "    <tr>\n",
       "      <td>1</td>\n",
       "      <td>No log</td>\n",
       "      <td>0.004801</td>\n",
       "      <td>0.897451</td>\n",
       "    </tr>\n",
       "    <tr>\n",
       "      <td>2</td>\n",
       "      <td>0.006700</td>\n",
       "      <td>0.004764</td>\n",
       "      <td>0.997573</td>\n",
       "    </tr>\n",
       "  </tbody>\n",
       "</table><p>"
      ],
      "text/plain": [
       "<IPython.core.display.HTML object>"
      ]
     },
     "metadata": {},
     "output_type": "display_data"
    },
    {
     "data": {
      "text/plain": [
       "TrainOutput(global_step=964, training_loss=0.005091707365146811, metrics={'train_runtime': 238.2834, 'train_samples_per_second': 8.091, 'train_steps_per_second': 4.046, 'total_flos': 382431902978880.0, 'train_loss': 0.005091707365146811, 'epoch': 2.0})"
      ]
     },
     "execution_count": 41,
     "metadata": {},
     "output_type": "execute_result"
    }
   ],
   "source": [
    "trainer.train()"
   ]
  },
  {
   "cell_type": "code",
   "execution_count": 42,
   "id": "393ac063",
   "metadata": {
    "execution": {
     "iopub.execute_input": "2023-11-01T15:05:10.343127Z",
     "iopub.status.busy": "2023-11-01T15:05:10.342373Z",
     "iopub.status.idle": "2023-11-01T15:05:10.372322Z",
     "shell.execute_reply": "2023-11-01T15:05:10.371423Z"
    },
    "papermill": {
     "duration": 0.050564,
     "end_time": "2023-11-01T15:05:10.374396",
     "exception": false,
     "start_time": "2023-11-01T15:05:10.323832",
     "status": "completed"
    },
    "tags": []
   },
   "outputs": [
    {
     "data": {
      "text/html": [],
      "text/plain": [
       "<IPython.core.display.HTML object>"
      ]
     },
     "metadata": {},
     "output_type": "display_data"
    }
   ],
   "source": [
    "predictions = trainer.predict(eval_ds)"
   ]
  },
  {
   "cell_type": "code",
   "execution_count": 43,
   "id": "21a54389",
   "metadata": {
    "execution": {
     "iopub.execute_input": "2023-11-01T15:05:10.410593Z",
     "iopub.status.busy": "2023-11-01T15:05:10.410276Z",
     "iopub.status.idle": "2023-11-01T15:05:10.416686Z",
     "shell.execute_reply": "2023-11-01T15:05:10.415803Z"
    },
    "papermill": {
     "duration": 0.026956,
     "end_time": "2023-11-01T15:05:10.418617",
     "exception": false,
     "start_time": "2023-11-01T15:05:10.391661",
     "status": "completed"
    },
    "tags": []
   },
   "outputs": [
    {
     "data": {
      "text/plain": [
       "PredictionOutput(predictions=array([[0.01020813],\n",
       "       [0.01004028],\n",
       "       [0.00940704]], dtype=float32), label_ids=None, metrics={'test_runtime': 0.0221, 'test_samples_per_second': 136.023, 'test_steps_per_second': 45.341})"
      ]
     },
     "execution_count": 43,
     "metadata": {},
     "output_type": "execute_result"
    }
   ],
   "source": [
    "predictions"
   ]
  },
  {
   "cell_type": "code",
   "execution_count": 44,
   "id": "a90e9a7a",
   "metadata": {
    "execution": {
     "iopub.execute_input": "2023-11-01T15:05:10.455038Z",
     "iopub.status.busy": "2023-11-01T15:05:10.454712Z",
     "iopub.status.idle": "2023-11-01T15:05:10.465306Z",
     "shell.execute_reply": "2023-11-01T15:05:10.464501Z"
    },
    "papermill": {
     "duration": 0.030482,
     "end_time": "2023-11-01T15:05:10.467136",
     "exception": false,
     "start_time": "2023-11-01T15:05:10.436654",
     "status": "completed"
    },
    "tags": []
   },
   "outputs": [],
   "source": [
    "submission = pd.DataFrame()\n",
    "submission['id'] = test_essay['id']\n",
    "submission['generated'] = predictions.predictions\n",
    "submission.to_csv('submission.csv', index=False)"
   ]
  },
  {
   "cell_type": "code",
   "execution_count": 45,
   "id": "2065a37d",
   "metadata": {
    "execution": {
     "iopub.execute_input": "2023-11-01T15:05:10.503355Z",
     "iopub.status.busy": "2023-11-01T15:05:10.502963Z",
     "iopub.status.idle": "2023-11-01T15:05:10.511848Z",
     "shell.execute_reply": "2023-11-01T15:05:10.510871Z"
    },
    "papermill": {
     "duration": 0.029626,
     "end_time": "2023-11-01T15:05:10.514063",
     "exception": false,
     "start_time": "2023-11-01T15:05:10.484437",
     "status": "completed"
    },
    "tags": []
   },
   "outputs": [
    {
     "data": {
      "text/html": [
       "<div>\n",
       "<style scoped>\n",
       "    .dataframe tbody tr th:only-of-type {\n",
       "        vertical-align: middle;\n",
       "    }\n",
       "\n",
       "    .dataframe tbody tr th {\n",
       "        vertical-align: top;\n",
       "    }\n",
       "\n",
       "    .dataframe thead th {\n",
       "        text-align: right;\n",
       "    }\n",
       "</style>\n",
       "<table border=\"1\" class=\"dataframe\">\n",
       "  <thead>\n",
       "    <tr style=\"text-align: right;\">\n",
       "      <th></th>\n",
       "      <th>id</th>\n",
       "      <th>generated</th>\n",
       "    </tr>\n",
       "  </thead>\n",
       "  <tbody>\n",
       "    <tr>\n",
       "      <th>0</th>\n",
       "      <td>0000aaaa</td>\n",
       "      <td>0.010208</td>\n",
       "    </tr>\n",
       "    <tr>\n",
       "      <th>1</th>\n",
       "      <td>1111bbbb</td>\n",
       "      <td>0.010040</td>\n",
       "    </tr>\n",
       "    <tr>\n",
       "      <th>2</th>\n",
       "      <td>2222cccc</td>\n",
       "      <td>0.009407</td>\n",
       "    </tr>\n",
       "  </tbody>\n",
       "</table>\n",
       "</div>"
      ],
      "text/plain": [
       "         id  generated\n",
       "0  0000aaaa   0.010208\n",
       "1  1111bbbb   0.010040\n",
       "2  2222cccc   0.009407"
      ]
     },
     "execution_count": 45,
     "metadata": {},
     "output_type": "execute_result"
    }
   ],
   "source": [
    "submission"
   ]
  }
 ],
 "metadata": {
  "kernelspec": {
   "display_name": "Python 3",
   "language": "python",
   "name": "python3"
  },
  "language_info": {
   "codemirror_mode": {
    "name": "ipython",
    "version": 3
   },
   "file_extension": ".py",
   "mimetype": "text/x-python",
   "name": "python",
   "nbconvert_exporter": "python",
   "pygments_lexer": "ipython3",
   "version": "3.10.12"
  },
  "papermill": {
   "default_parameters": {},
   "duration": 287.844954,
   "end_time": "2023-11-01T15:05:13.653831",
   "environment_variables": {},
   "exception": null,
   "input_path": "__notebook__.ipynb",
   "output_path": "__notebook__.ipynb",
   "parameters": {},
   "start_time": "2023-11-01T15:00:25.808877",
   "version": "2.4.0"
  },
  "widgets": {
   "application/vnd.jupyter.widget-state+json": {
    "state": {
     "05af682b358e4f5b895fc8e96666a6fd": {
      "model_module": "@jupyter-widgets/controls",
      "model_module_version": "1.5.0",
      "model_name": "HBoxModel",
      "state": {
       "_dom_classes": [],
       "_model_module": "@jupyter-widgets/controls",
       "_model_module_version": "1.5.0",
       "_model_name": "HBoxModel",
       "_view_count": null,
       "_view_module": "@jupyter-widgets/controls",
       "_view_module_version": "1.5.0",
       "_view_name": "HBoxView",
       "box_style": "",
       "children": [
        "IPY_MODEL_296020bf173b4d71a22446057a103377",
        "IPY_MODEL_dfd1f2e030b844d5915e59989a0c7aae",
        "IPY_MODEL_e37be67ddbfb46698a0d38c777d49c87"
       ],
       "layout": "IPY_MODEL_40be1c237b4f4a28a6a86ab2518347f1"
      }
     },
     "084a1aa438e84a8c96adae6ee9dbead5": {
      "model_module": "@jupyter-widgets/controls",
      "model_module_version": "1.5.0",
      "model_name": "HTMLModel",
      "state": {
       "_dom_classes": [],
       "_model_module": "@jupyter-widgets/controls",
       "_model_module_version": "1.5.0",
       "_model_name": "HTMLModel",
       "_view_count": null,
       "_view_module": "@jupyter-widgets/controls",
       "_view_module_version": "1.5.0",
       "_view_name": "HTMLView",
       "description": "",
       "description_tooltip": null,
       "layout": "IPY_MODEL_6649d76562cb4b5ca414cc47aeab222c",
       "placeholder": "​",
       "style": "IPY_MODEL_16ecc8dea20c436eb36073485cb9d509",
       "value": " 286M/286M [00:01&lt;00:00, 308MB/s]"
      }
     },
     "0b41898117694a17ac47d42981cdc00c": {
      "model_module": "@jupyter-widgets/base",
      "model_module_version": "1.2.0",
      "model_name": "LayoutModel",
      "state": {
       "_model_module": "@jupyter-widgets/base",
       "_model_module_version": "1.2.0",
       "_model_name": "LayoutModel",
       "_view_count": null,
       "_view_module": "@jupyter-widgets/base",
       "_view_module_version": "1.2.0",
       "_view_name": "LayoutView",
       "align_content": null,
       "align_items": null,
       "align_self": null,
       "border": null,
       "bottom": null,
       "display": null,
       "flex": null,
       "flex_flow": null,
       "grid_area": null,
       "grid_auto_columns": null,
       "grid_auto_flow": null,
       "grid_auto_rows": null,
       "grid_column": null,
       "grid_gap": null,
       "grid_row": null,
       "grid_template_areas": null,
       "grid_template_columns": null,
       "grid_template_rows": null,
       "height": null,
       "justify_content": null,
       "justify_items": null,
       "left": null,
       "margin": null,
       "max_height": null,
       "max_width": null,
       "min_height": null,
       "min_width": null,
       "object_fit": null,
       "object_position": null,
       "order": null,
       "overflow": null,
       "overflow_x": null,
       "overflow_y": null,
       "padding": null,
       "right": null,
       "top": null,
       "visibility": null,
       "width": null
      }
     },
     "16ecc8dea20c436eb36073485cb9d509": {
      "model_module": "@jupyter-widgets/controls",
      "model_module_version": "1.5.0",
      "model_name": "DescriptionStyleModel",
      "state": {
       "_model_module": "@jupyter-widgets/controls",
       "_model_module_version": "1.5.0",
       "_model_name": "DescriptionStyleModel",
       "_view_count": null,
       "_view_module": "@jupyter-widgets/base",
       "_view_module_version": "1.2.0",
       "_view_name": "StyleView",
       "description_width": ""
      }
     },
     "173c7dab7e2f47b3a8702a999ab3c958": {
      "model_module": "@jupyter-widgets/controls",
      "model_module_version": "1.5.0",
      "model_name": "DescriptionStyleModel",
      "state": {
       "_model_module": "@jupyter-widgets/controls",
       "_model_module_version": "1.5.0",
       "_model_name": "DescriptionStyleModel",
       "_view_count": null,
       "_view_module": "@jupyter-widgets/base",
       "_view_module_version": "1.2.0",
       "_view_name": "StyleView",
       "description_width": ""
      }
     },
     "19e7c04e46dc4e579fe7774e9f23a792": {
      "model_module": "@jupyter-widgets/controls",
      "model_module_version": "1.5.0",
      "model_name": "HTMLModel",
      "state": {
       "_dom_classes": [],
       "_model_module": "@jupyter-widgets/controls",
       "_model_module_version": "1.5.0",
       "_model_name": "HTMLModel",
       "_view_count": null,
       "_view_module": "@jupyter-widgets/controls",
       "_view_module_version": "1.5.0",
       "_view_name": "HTMLView",
       "description": "",
       "description_tooltip": null,
       "layout": "IPY_MODEL_f3531fc802b84b418e3770222f406463",
       "placeholder": "​",
       "style": "IPY_MODEL_c5e988df30634497b750cf9fd0565e2c",
       "value": " 578/578 [00:00&lt;00:00, 57.8kB/s]"
      }
     },
     "1fe6fcface044300881c885234d747d2": {
      "model_module": "@jupyter-widgets/controls",
      "model_module_version": "1.5.0",
      "model_name": "FloatProgressModel",
      "state": {
       "_dom_classes": [],
       "_model_module": "@jupyter-widgets/controls",
       "_model_module_version": "1.5.0",
       "_model_name": "FloatProgressModel",
       "_view_count": null,
       "_view_module": "@jupyter-widgets/controls",
       "_view_module_version": "1.5.0",
       "_view_name": "ProgressView",
       "bar_style": "success",
       "description": "",
       "description_tooltip": null,
       "layout": "IPY_MODEL_9e8dc3d837db45ca97834da6825cdf8e",
       "max": 2464616.0,
       "min": 0.0,
       "orientation": "horizontal",
       "style": "IPY_MODEL_50a8eaea4c824c4aa9b79fedda0de7ef",
       "value": 2464616.0
      }
     },
     "28740320128d4ec1b0ef55383fad793b": {
      "model_module": "@jupyter-widgets/base",
      "model_module_version": "1.2.0",
      "model_name": "LayoutModel",
      "state": {
       "_model_module": "@jupyter-widgets/base",
       "_model_module_version": "1.2.0",
       "_model_name": "LayoutModel",
       "_view_count": null,
       "_view_module": "@jupyter-widgets/base",
       "_view_module_version": "1.2.0",
       "_view_name": "LayoutView",
       "align_content": null,
       "align_items": null,
       "align_self": null,
       "border": null,
       "bottom": null,
       "display": null,
       "flex": null,
       "flex_flow": null,
       "grid_area": null,
       "grid_auto_columns": null,
       "grid_auto_flow": null,
       "grid_auto_rows": null,
       "grid_column": null,
       "grid_gap": null,
       "grid_row": null,
       "grid_template_areas": null,
       "grid_template_columns": null,
       "grid_template_rows": null,
       "height": null,
       "justify_content": null,
       "justify_items": null,
       "left": null,
       "margin": null,
       "max_height": null,
       "max_width": null,
       "min_height": null,
       "min_width": null,
       "object_fit": null,
       "object_position": null,
       "order": null,
       "overflow": null,
       "overflow_x": null,
       "overflow_y": null,
       "padding": null,
       "right": null,
       "top": null,
       "visibility": null,
       "width": null
      }
     },
     "296020bf173b4d71a22446057a103377": {
      "model_module": "@jupyter-widgets/controls",
      "model_module_version": "1.5.0",
      "model_name": "HTMLModel",
      "state": {
       "_dom_classes": [],
       "_model_module": "@jupyter-widgets/controls",
       "_model_module_version": "1.5.0",
       "_model_name": "HTMLModel",
       "_view_count": null,
       "_view_module": "@jupyter-widgets/controls",
       "_view_module_version": "1.5.0",
       "_view_name": "HTMLView",
       "description": "",
       "description_tooltip": null,
       "layout": "IPY_MODEL_76e93eda866541fca2ae57637d334402",
       "placeholder": "​",
       "style": "IPY_MODEL_2a2780557f94404eaecfbf126c053e1e",
       "value": "100%"
      }
     },
     "2a2780557f94404eaecfbf126c053e1e": {
      "model_module": "@jupyter-widgets/controls",
      "model_module_version": "1.5.0",
      "model_name": "DescriptionStyleModel",
      "state": {
       "_model_module": "@jupyter-widgets/controls",
       "_model_module_version": "1.5.0",
       "_model_name": "DescriptionStyleModel",
       "_view_count": null,
       "_view_module": "@jupyter-widgets/base",
       "_view_module_version": "1.2.0",
       "_view_name": "StyleView",
       "description_width": ""
      }
     },
     "2d8610735d084efabfdaaec5eef86ef0": {
      "model_module": "@jupyter-widgets/controls",
      "model_module_version": "1.5.0",
      "model_name": "DescriptionStyleModel",
      "state": {
       "_model_module": "@jupyter-widgets/controls",
       "_model_module_version": "1.5.0",
       "_model_name": "DescriptionStyleModel",
       "_view_count": null,
       "_view_module": "@jupyter-widgets/base",
       "_view_module_version": "1.2.0",
       "_view_name": "StyleView",
       "description_width": ""
      }
     },
     "2ee5a1a624094cfe898fa6110f1b2cf5": {
      "model_module": "@jupyter-widgets/controls",
      "model_module_version": "1.5.0",
      "model_name": "FloatProgressModel",
      "state": {
       "_dom_classes": [],
       "_model_module": "@jupyter-widgets/controls",
       "_model_module_version": "1.5.0",
       "_model_name": "FloatProgressModel",
       "_view_count": null,
       "_view_module": "@jupyter-widgets/controls",
       "_view_module_version": "1.5.0",
       "_view_name": "ProgressView",
       "bar_style": "success",
       "description": "",
       "description_tooltip": null,
       "layout": "IPY_MODEL_51c839e7694c4641a5d8f381ccf7d8ef",
       "max": 52.0,
       "min": 0.0,
       "orientation": "horizontal",
       "style": "IPY_MODEL_abe73e252b014e29860b531a25aafd0b",
       "value": 52.0
      }
     },
     "3027a9cc236844e3a58756bd05528a1f": {
      "model_module": "@jupyter-widgets/base",
      "model_module_version": "1.2.0",
      "model_name": "LayoutModel",
      "state": {
       "_model_module": "@jupyter-widgets/base",
       "_model_module_version": "1.2.0",
       "_model_name": "LayoutModel",
       "_view_count": null,
       "_view_module": "@jupyter-widgets/base",
       "_view_module_version": "1.2.0",
       "_view_name": "LayoutView",
       "align_content": null,
       "align_items": null,
       "align_self": null,
       "border": null,
       "bottom": null,
       "display": null,
       "flex": null,
       "flex_flow": null,
       "grid_area": null,
       "grid_auto_columns": null,
       "grid_auto_flow": null,
       "grid_auto_rows": null,
       "grid_column": null,
       "grid_gap": null,
       "grid_row": null,
       "grid_template_areas": null,
       "grid_template_columns": null,
       "grid_template_rows": null,
       "height": null,
       "justify_content": null,
       "justify_items": null,
       "left": null,
       "margin": null,
       "max_height": null,
       "max_width": null,
       "min_height": null,
       "min_width": null,
       "object_fit": null,
       "object_position": null,
       "order": null,
       "overflow": null,
       "overflow_x": null,
       "overflow_y": null,
       "padding": null,
       "right": null,
       "top": null,
       "visibility": null,
       "width": null
      }
     },
     "3389987d5a51439b9a35c3d528efe8e5": {
      "model_module": "@jupyter-widgets/controls",
      "model_module_version": "1.5.0",
      "model_name": "DescriptionStyleModel",
      "state": {
       "_model_module": "@jupyter-widgets/controls",
       "_model_module_version": "1.5.0",
       "_model_name": "DescriptionStyleModel",
       "_view_count": null,
       "_view_module": "@jupyter-widgets/base",
       "_view_module_version": "1.2.0",
       "_view_name": "StyleView",
       "description_width": ""
      }
     },
     "35b03a2163f040289aef3eb420aff125": {
      "model_module": "@jupyter-widgets/controls",
      "model_module_version": "1.5.0",
      "model_name": "DescriptionStyleModel",
      "state": {
       "_model_module": "@jupyter-widgets/controls",
       "_model_module_version": "1.5.0",
       "_model_name": "DescriptionStyleModel",
       "_view_count": null,
       "_view_module": "@jupyter-widgets/base",
       "_view_module_version": "1.2.0",
       "_view_name": "StyleView",
       "description_width": ""
      }
     },
     "37918bf95aa345bc862728576d8d2137": {
      "model_module": "@jupyter-widgets/controls",
      "model_module_version": "1.5.0",
      "model_name": "HBoxModel",
      "state": {
       "_dom_classes": [],
       "_model_module": "@jupyter-widgets/controls",
       "_model_module_version": "1.5.0",
       "_model_name": "HBoxModel",
       "_view_count": null,
       "_view_module": "@jupyter-widgets/controls",
       "_view_module_version": "1.5.0",
       "_view_name": "HBoxView",
       "box_style": "",
       "children": [
        "IPY_MODEL_9e4d82f4f92c41dfb72b02ac5d6d6701",
        "IPY_MODEL_f4c3ca8378564e5eac9eb8f988bf2f99",
        "IPY_MODEL_f64b550267904e9189dcf63c43237015"
       ],
       "layout": "IPY_MODEL_944c96e4d2254d3c8503af4416acd916"
      }
     },
     "3a109fe876a448c58380db4a57a68f22": {
      "model_module": "@jupyter-widgets/controls",
      "model_module_version": "1.5.0",
      "model_name": "HBoxModel",
      "state": {
       "_dom_classes": [],
       "_model_module": "@jupyter-widgets/controls",
       "_model_module_version": "1.5.0",
       "_model_name": "HBoxModel",
       "_view_count": null,
       "_view_module": "@jupyter-widgets/controls",
       "_view_module_version": "1.5.0",
       "_view_name": "HBoxView",
       "box_style": "",
       "children": [
        "IPY_MODEL_9ff67cd97ce94c7ba5a65d02c89659f9",
        "IPY_MODEL_1fe6fcface044300881c885234d747d2",
        "IPY_MODEL_aaa72f2ae71843089503ab12eb35131a"
       ],
       "layout": "IPY_MODEL_28740320128d4ec1b0ef55383fad793b"
      }
     },
     "3ded561905df4ec8a6c3ce3ad559fbb0": {
      "model_module": "@jupyter-widgets/base",
      "model_module_version": "1.2.0",
      "model_name": "LayoutModel",
      "state": {
       "_model_module": "@jupyter-widgets/base",
       "_model_module_version": "1.2.0",
       "_model_name": "LayoutModel",
       "_view_count": null,
       "_view_module": "@jupyter-widgets/base",
       "_view_module_version": "1.2.0",
       "_view_name": "LayoutView",
       "align_content": null,
       "align_items": null,
       "align_self": null,
       "border": null,
       "bottom": null,
       "display": null,
       "flex": null,
       "flex_flow": null,
       "grid_area": null,
       "grid_auto_columns": null,
       "grid_auto_flow": null,
       "grid_auto_rows": null,
       "grid_column": null,
       "grid_gap": null,
       "grid_row": null,
       "grid_template_areas": null,
       "grid_template_columns": null,
       "grid_template_rows": null,
       "height": null,
       "justify_content": null,
       "justify_items": null,
       "left": null,
       "margin": null,
       "max_height": null,
       "max_width": null,
       "min_height": null,
       "min_width": null,
       "object_fit": null,
       "object_position": null,
       "order": null,
       "overflow": null,
       "overflow_x": null,
       "overflow_y": null,
       "padding": null,
       "right": null,
       "top": null,
       "visibility": null,
       "width": null
      }
     },
     "40be1c237b4f4a28a6a86ab2518347f1": {
      "model_module": "@jupyter-widgets/base",
      "model_module_version": "1.2.0",
      "model_name": "LayoutModel",
      "state": {
       "_model_module": "@jupyter-widgets/base",
       "_model_module_version": "1.2.0",
       "_model_name": "LayoutModel",
       "_view_count": null,
       "_view_module": "@jupyter-widgets/base",
       "_view_module_version": "1.2.0",
       "_view_name": "LayoutView",
       "align_content": null,
       "align_items": null,
       "align_self": null,
       "border": null,
       "bottom": null,
       "display": null,
       "flex": null,
       "flex_flow": null,
       "grid_area": null,
       "grid_auto_columns": null,
       "grid_auto_flow": null,
       "grid_auto_rows": null,
       "grid_column": null,
       "grid_gap": null,
       "grid_row": null,
       "grid_template_areas": null,
       "grid_template_columns": null,
       "grid_template_rows": null,
       "height": null,
       "justify_content": null,
       "justify_items": null,
       "left": null,
       "margin": null,
       "max_height": null,
       "max_width": null,
       "min_height": null,
       "min_width": null,
       "object_fit": null,
       "object_position": null,
       "order": null,
       "overflow": null,
       "overflow_x": null,
       "overflow_y": null,
       "padding": null,
       "right": null,
       "top": null,
       "visibility": null,
       "width": null
      }
     },
     "40f7ce7032424713bb13c3f55153032d": {
      "model_module": "@jupyter-widgets/base",
      "model_module_version": "1.2.0",
      "model_name": "LayoutModel",
      "state": {
       "_model_module": "@jupyter-widgets/base",
       "_model_module_version": "1.2.0",
       "_model_name": "LayoutModel",
       "_view_count": null,
       "_view_module": "@jupyter-widgets/base",
       "_view_module_version": "1.2.0",
       "_view_name": "LayoutView",
       "align_content": null,
       "align_items": null,
       "align_self": null,
       "border": null,
       "bottom": null,
       "display": null,
       "flex": null,
       "flex_flow": null,
       "grid_area": null,
       "grid_auto_columns": null,
       "grid_auto_flow": null,
       "grid_auto_rows": null,
       "grid_column": null,
       "grid_gap": null,
       "grid_row": null,
       "grid_template_areas": null,
       "grid_template_columns": null,
       "grid_template_rows": null,
       "height": null,
       "justify_content": null,
       "justify_items": null,
       "left": null,
       "margin": null,
       "max_height": null,
       "max_width": null,
       "min_height": null,
       "min_width": null,
       "object_fit": null,
       "object_position": null,
       "order": null,
       "overflow": null,
       "overflow_x": null,
       "overflow_y": null,
       "padding": null,
       "right": null,
       "top": null,
       "visibility": null,
       "width": null
      }
     },
     "464096c693aa4dd5a8e9a559b021fe19": {
      "model_module": "@jupyter-widgets/base",
      "model_module_version": "1.2.0",
      "model_name": "LayoutModel",
      "state": {
       "_model_module": "@jupyter-widgets/base",
       "_model_module_version": "1.2.0",
       "_model_name": "LayoutModel",
       "_view_count": null,
       "_view_module": "@jupyter-widgets/base",
       "_view_module_version": "1.2.0",
       "_view_name": "LayoutView",
       "align_content": null,
       "align_items": null,
       "align_self": null,
       "border": null,
       "bottom": null,
       "display": null,
       "flex": null,
       "flex_flow": null,
       "grid_area": null,
       "grid_auto_columns": null,
       "grid_auto_flow": null,
       "grid_auto_rows": null,
       "grid_column": null,
       "grid_gap": null,
       "grid_row": null,
       "grid_template_areas": null,
       "grid_template_columns": null,
       "grid_template_rows": null,
       "height": null,
       "justify_content": null,
       "justify_items": null,
       "left": null,
       "margin": null,
       "max_height": null,
       "max_width": null,
       "min_height": null,
       "min_width": null,
       "object_fit": null,
       "object_position": null,
       "order": null,
       "overflow": null,
       "overflow_x": null,
       "overflow_y": null,
       "padding": null,
       "right": null,
       "top": null,
       "visibility": null,
       "width": null
      }
     },
     "49e368fd18774a689f8146f73f718f7c": {
      "model_module": "@jupyter-widgets/controls",
      "model_module_version": "1.5.0",
      "model_name": "ProgressStyleModel",
      "state": {
       "_model_module": "@jupyter-widgets/controls",
       "_model_module_version": "1.5.0",
       "_model_name": "ProgressStyleModel",
       "_view_count": null,
       "_view_module": "@jupyter-widgets/base",
       "_view_module_version": "1.2.0",
       "_view_name": "StyleView",
       "bar_color": null,
       "description_width": ""
      }
     },
     "50a8eaea4c824c4aa9b79fedda0de7ef": {
      "model_module": "@jupyter-widgets/controls",
      "model_module_version": "1.5.0",
      "model_name": "ProgressStyleModel",
      "state": {
       "_model_module": "@jupyter-widgets/controls",
       "_model_module_version": "1.5.0",
       "_model_name": "ProgressStyleModel",
       "_view_count": null,
       "_view_module": "@jupyter-widgets/base",
       "_view_module_version": "1.2.0",
       "_view_name": "StyleView",
       "bar_color": null,
       "description_width": ""
      }
     },
     "51c839e7694c4641a5d8f381ccf7d8ef": {
      "model_module": "@jupyter-widgets/base",
      "model_module_version": "1.2.0",
      "model_name": "LayoutModel",
      "state": {
       "_model_module": "@jupyter-widgets/base",
       "_model_module_version": "1.2.0",
       "_model_name": "LayoutModel",
       "_view_count": null,
       "_view_module": "@jupyter-widgets/base",
       "_view_module_version": "1.2.0",
       "_view_name": "LayoutView",
       "align_content": null,
       "align_items": null,
       "align_self": null,
       "border": null,
       "bottom": null,
       "display": null,
       "flex": null,
       "flex_flow": null,
       "grid_area": null,
       "grid_auto_columns": null,
       "grid_auto_flow": null,
       "grid_auto_rows": null,
       "grid_column": null,
       "grid_gap": null,
       "grid_row": null,
       "grid_template_areas": null,
       "grid_template_columns": null,
       "grid_template_rows": null,
       "height": null,
       "justify_content": null,
       "justify_items": null,
       "left": null,
       "margin": null,
       "max_height": null,
       "max_width": null,
       "min_height": null,
       "min_width": null,
       "object_fit": null,
       "object_position": null,
       "order": null,
       "overflow": null,
       "overflow_x": null,
       "overflow_y": null,
       "padding": null,
       "right": null,
       "top": null,
       "visibility": null,
       "width": null
      }
     },
     "570b744d1a72445dbd46209cf4e88c60": {
      "model_module": "@jupyter-widgets/controls",
      "model_module_version": "1.5.0",
      "model_name": "DescriptionStyleModel",
      "state": {
       "_model_module": "@jupyter-widgets/controls",
       "_model_module_version": "1.5.0",
       "_model_name": "DescriptionStyleModel",
       "_view_count": null,
       "_view_module": "@jupyter-widgets/base",
       "_view_module_version": "1.2.0",
       "_view_name": "StyleView",
       "description_width": ""
      }
     },
     "5731de82503e40468908a01a1e2a0e3a": {
      "model_module": "@jupyter-widgets/base",
      "model_module_version": "1.2.0",
      "model_name": "LayoutModel",
      "state": {
       "_model_module": "@jupyter-widgets/base",
       "_model_module_version": "1.2.0",
       "_model_name": "LayoutModel",
       "_view_count": null,
       "_view_module": "@jupyter-widgets/base",
       "_view_module_version": "1.2.0",
       "_view_name": "LayoutView",
       "align_content": null,
       "align_items": null,
       "align_self": null,
       "border": null,
       "bottom": null,
       "display": null,
       "flex": null,
       "flex_flow": null,
       "grid_area": null,
       "grid_auto_columns": null,
       "grid_auto_flow": null,
       "grid_auto_rows": null,
       "grid_column": null,
       "grid_gap": null,
       "grid_row": null,
       "grid_template_areas": null,
       "grid_template_columns": null,
       "grid_template_rows": null,
       "height": null,
       "justify_content": null,
       "justify_items": null,
       "left": null,
       "margin": null,
       "max_height": null,
       "max_width": null,
       "min_height": null,
       "min_width": null,
       "object_fit": null,
       "object_position": null,
       "order": null,
       "overflow": null,
       "overflow_x": null,
       "overflow_y": null,
       "padding": null,
       "right": null,
       "top": null,
       "visibility": null,
       "width": null
      }
     },
     "5ceb2b6b7e7d4780b20e8b4fed2f8c90": {
      "model_module": "@jupyter-widgets/base",
      "model_module_version": "1.2.0",
      "model_name": "LayoutModel",
      "state": {
       "_model_module": "@jupyter-widgets/base",
       "_model_module_version": "1.2.0",
       "_model_name": "LayoutModel",
       "_view_count": null,
       "_view_module": "@jupyter-widgets/base",
       "_view_module_version": "1.2.0",
       "_view_name": "LayoutView",
       "align_content": null,
       "align_items": null,
       "align_self": null,
       "border": null,
       "bottom": null,
       "display": null,
       "flex": null,
       "flex_flow": null,
       "grid_area": null,
       "grid_auto_columns": null,
       "grid_auto_flow": null,
       "grid_auto_rows": null,
       "grid_column": null,
       "grid_gap": null,
       "grid_row": null,
       "grid_template_areas": null,
       "grid_template_columns": null,
       "grid_template_rows": null,
       "height": null,
       "justify_content": null,
       "justify_items": null,
       "left": null,
       "margin": null,
       "max_height": null,
       "max_width": null,
       "min_height": null,
       "min_width": null,
       "object_fit": null,
       "object_position": null,
       "order": null,
       "overflow": null,
       "overflow_x": null,
       "overflow_y": null,
       "padding": null,
       "right": null,
       "top": null,
       "visibility": null,
       "width": null
      }
     },
     "6649d76562cb4b5ca414cc47aeab222c": {
      "model_module": "@jupyter-widgets/base",
      "model_module_version": "1.2.0",
      "model_name": "LayoutModel",
      "state": {
       "_model_module": "@jupyter-widgets/base",
       "_model_module_version": "1.2.0",
       "_model_name": "LayoutModel",
       "_view_count": null,
       "_view_module": "@jupyter-widgets/base",
       "_view_module_version": "1.2.0",
       "_view_name": "LayoutView",
       "align_content": null,
       "align_items": null,
       "align_self": null,
       "border": null,
       "bottom": null,
       "display": null,
       "flex": null,
       "flex_flow": null,
       "grid_area": null,
       "grid_auto_columns": null,
       "grid_auto_flow": null,
       "grid_auto_rows": null,
       "grid_column": null,
       "grid_gap": null,
       "grid_row": null,
       "grid_template_areas": null,
       "grid_template_columns": null,
       "grid_template_rows": null,
       "height": null,
       "justify_content": null,
       "justify_items": null,
       "left": null,
       "margin": null,
       "max_height": null,
       "max_width": null,
       "min_height": null,
       "min_width": null,
       "object_fit": null,
       "object_position": null,
       "order": null,
       "overflow": null,
       "overflow_x": null,
       "overflow_y": null,
       "padding": null,
       "right": null,
       "top": null,
       "visibility": null,
       "width": null
      }
     },
     "675601bf94d6446594a33f2791a4fd37": {
      "model_module": "@jupyter-widgets/controls",
      "model_module_version": "1.5.0",
      "model_name": "HTMLModel",
      "state": {
       "_dom_classes": [],
       "_model_module": "@jupyter-widgets/controls",
       "_model_module_version": "1.5.0",
       "_model_name": "HTMLModel",
       "_view_count": null,
       "_view_module": "@jupyter-widgets/controls",
       "_view_module_version": "1.5.0",
       "_view_name": "HTMLView",
       "description": "",
       "description_tooltip": null,
       "layout": "IPY_MODEL_6b2ea07598864d2fb9fdb8f2c41fd72b",
       "placeholder": "​",
       "style": "IPY_MODEL_3389987d5a51439b9a35c3d528efe8e5",
       "value": "Downloading (…)okenizer_config.json: 100%"
      }
     },
     "67d4d4f2c98d47fab3df20d36441b5af": {
      "model_module": "@jupyter-widgets/controls",
      "model_module_version": "1.5.0",
      "model_name": "HTMLModel",
      "state": {
       "_dom_classes": [],
       "_model_module": "@jupyter-widgets/controls",
       "_model_module_version": "1.5.0",
       "_model_name": "HTMLModel",
       "_view_count": null,
       "_view_module": "@jupyter-widgets/controls",
       "_view_module_version": "1.5.0",
       "_view_name": "HTMLView",
       "description": "",
       "description_tooltip": null,
       "layout": "IPY_MODEL_6aabc7c989494d178c019038ae9d91a6",
       "placeholder": "​",
       "style": "IPY_MODEL_2d8610735d084efabfdaaec5eef86ef0",
       "value": "Downloading pytorch_model.bin: 100%"
      }
     },
     "694b42a8c0ab4b0f92d56fe04411d2ec": {
      "model_module": "@jupyter-widgets/controls",
      "model_module_version": "1.5.0",
      "model_name": "ProgressStyleModel",
      "state": {
       "_model_module": "@jupyter-widgets/controls",
       "_model_module_version": "1.5.0",
       "_model_name": "ProgressStyleModel",
       "_view_count": null,
       "_view_module": "@jupyter-widgets/base",
       "_view_module_version": "1.2.0",
       "_view_name": "StyleView",
       "bar_color": null,
       "description_width": ""
      }
     },
     "6aabc7c989494d178c019038ae9d91a6": {
      "model_module": "@jupyter-widgets/base",
      "model_module_version": "1.2.0",
      "model_name": "LayoutModel",
      "state": {
       "_model_module": "@jupyter-widgets/base",
       "_model_module_version": "1.2.0",
       "_model_name": "LayoutModel",
       "_view_count": null,
       "_view_module": "@jupyter-widgets/base",
       "_view_module_version": "1.2.0",
       "_view_name": "LayoutView",
       "align_content": null,
       "align_items": null,
       "align_self": null,
       "border": null,
       "bottom": null,
       "display": null,
       "flex": null,
       "flex_flow": null,
       "grid_area": null,
       "grid_auto_columns": null,
       "grid_auto_flow": null,
       "grid_auto_rows": null,
       "grid_column": null,
       "grid_gap": null,
       "grid_row": null,
       "grid_template_areas": null,
       "grid_template_columns": null,
       "grid_template_rows": null,
       "height": null,
       "justify_content": null,
       "justify_items": null,
       "left": null,
       "margin": null,
       "max_height": null,
       "max_width": null,
       "min_height": null,
       "min_width": null,
       "object_fit": null,
       "object_position": null,
       "order": null,
       "overflow": null,
       "overflow_x": null,
       "overflow_y": null,
       "padding": null,
       "right": null,
       "top": null,
       "visibility": null,
       "width": null
      }
     },
     "6b2ea07598864d2fb9fdb8f2c41fd72b": {
      "model_module": "@jupyter-widgets/base",
      "model_module_version": "1.2.0",
      "model_name": "LayoutModel",
      "state": {
       "_model_module": "@jupyter-widgets/base",
       "_model_module_version": "1.2.0",
       "_model_name": "LayoutModel",
       "_view_count": null,
       "_view_module": "@jupyter-widgets/base",
       "_view_module_version": "1.2.0",
       "_view_name": "LayoutView",
       "align_content": null,
       "align_items": null,
       "align_self": null,
       "border": null,
       "bottom": null,
       "display": null,
       "flex": null,
       "flex_flow": null,
       "grid_area": null,
       "grid_auto_columns": null,
       "grid_auto_flow": null,
       "grid_auto_rows": null,
       "grid_column": null,
       "grid_gap": null,
       "grid_row": null,
       "grid_template_areas": null,
       "grid_template_columns": null,
       "grid_template_rows": null,
       "height": null,
       "justify_content": null,
       "justify_items": null,
       "left": null,
       "margin": null,
       "max_height": null,
       "max_width": null,
       "min_height": null,
       "min_width": null,
       "object_fit": null,
       "object_position": null,
       "order": null,
       "overflow": null,
       "overflow_x": null,
       "overflow_y": null,
       "padding": null,
       "right": null,
       "top": null,
       "visibility": null,
       "width": null
      }
     },
     "6d4893e5022d4873ab948a6836eb29b4": {
      "model_module": "@jupyter-widgets/controls",
      "model_module_version": "1.5.0",
      "model_name": "DescriptionStyleModel",
      "state": {
       "_model_module": "@jupyter-widgets/controls",
       "_model_module_version": "1.5.0",
       "_model_name": "DescriptionStyleModel",
       "_view_count": null,
       "_view_module": "@jupyter-widgets/base",
       "_view_module_version": "1.2.0",
       "_view_name": "StyleView",
       "description_width": ""
      }
     },
     "6eeeb5d626f940de9cf61d64d8307f06": {
      "model_module": "@jupyter-widgets/controls",
      "model_module_version": "1.5.0",
      "model_name": "ProgressStyleModel",
      "state": {
       "_model_module": "@jupyter-widgets/controls",
       "_model_module_version": "1.5.0",
       "_model_name": "ProgressStyleModel",
       "_view_count": null,
       "_view_module": "@jupyter-widgets/base",
       "_view_module_version": "1.2.0",
       "_view_name": "StyleView",
       "bar_color": null,
       "description_width": ""
      }
     },
     "74d240c21f3d48aa9370d0a08e462172": {
      "model_module": "@jupyter-widgets/controls",
      "model_module_version": "1.5.0",
      "model_name": "ProgressStyleModel",
      "state": {
       "_model_module": "@jupyter-widgets/controls",
       "_model_module_version": "1.5.0",
       "_model_name": "ProgressStyleModel",
       "_view_count": null,
       "_view_module": "@jupyter-widgets/base",
       "_view_module_version": "1.2.0",
       "_view_name": "StyleView",
       "bar_color": null,
       "description_width": ""
      }
     },
     "76e93eda866541fca2ae57637d334402": {
      "model_module": "@jupyter-widgets/base",
      "model_module_version": "1.2.0",
      "model_name": "LayoutModel",
      "state": {
       "_model_module": "@jupyter-widgets/base",
       "_model_module_version": "1.2.0",
       "_model_name": "LayoutModel",
       "_view_count": null,
       "_view_module": "@jupyter-widgets/base",
       "_view_module_version": "1.2.0",
       "_view_name": "LayoutView",
       "align_content": null,
       "align_items": null,
       "align_self": null,
       "border": null,
       "bottom": null,
       "display": null,
       "flex": null,
       "flex_flow": null,
       "grid_area": null,
       "grid_auto_columns": null,
       "grid_auto_flow": null,
       "grid_auto_rows": null,
       "grid_column": null,
       "grid_gap": null,
       "grid_row": null,
       "grid_template_areas": null,
       "grid_template_columns": null,
       "grid_template_rows": null,
       "height": null,
       "justify_content": null,
       "justify_items": null,
       "left": null,
       "margin": null,
       "max_height": null,
       "max_width": null,
       "min_height": null,
       "min_width": null,
       "object_fit": null,
       "object_position": null,
       "order": null,
       "overflow": null,
       "overflow_x": null,
       "overflow_y": null,
       "padding": null,
       "right": null,
       "top": null,
       "visibility": null,
       "width": null
      }
     },
     "773e335f78c4443cb1f91a788ac70c16": {
      "model_module": "@jupyter-widgets/base",
      "model_module_version": "1.2.0",
      "model_name": "LayoutModel",
      "state": {
       "_model_module": "@jupyter-widgets/base",
       "_model_module_version": "1.2.0",
       "_model_name": "LayoutModel",
       "_view_count": null,
       "_view_module": "@jupyter-widgets/base",
       "_view_module_version": "1.2.0",
       "_view_name": "LayoutView",
       "align_content": null,
       "align_items": null,
       "align_self": null,
       "border": null,
       "bottom": null,
       "display": null,
       "flex": null,
       "flex_flow": null,
       "grid_area": null,
       "grid_auto_columns": null,
       "grid_auto_flow": null,
       "grid_auto_rows": null,
       "grid_column": null,
       "grid_gap": null,
       "grid_row": null,
       "grid_template_areas": null,
       "grid_template_columns": null,
       "grid_template_rows": null,
       "height": null,
       "justify_content": null,
       "justify_items": null,
       "left": null,
       "margin": null,
       "max_height": null,
       "max_width": null,
       "min_height": null,
       "min_width": null,
       "object_fit": null,
       "object_position": null,
       "order": null,
       "overflow": null,
       "overflow_x": null,
       "overflow_y": null,
       "padding": null,
       "right": null,
       "top": null,
       "visibility": null,
       "width": null
      }
     },
     "783aba9ecac744f19758239396dd0d79": {
      "model_module": "@jupyter-widgets/controls",
      "model_module_version": "1.5.0",
      "model_name": "HBoxModel",
      "state": {
       "_dom_classes": [],
       "_model_module": "@jupyter-widgets/controls",
       "_model_module_version": "1.5.0",
       "_model_name": "HBoxModel",
       "_view_count": null,
       "_view_module": "@jupyter-widgets/controls",
       "_view_module_version": "1.5.0",
       "_view_name": "HBoxView",
       "box_style": "",
       "children": [
        "IPY_MODEL_67d4d4f2c98d47fab3df20d36441b5af",
        "IPY_MODEL_7933aabf2caf401290c63c6a9b3d35bc",
        "IPY_MODEL_084a1aa438e84a8c96adae6ee9dbead5"
       ],
       "layout": "IPY_MODEL_3027a9cc236844e3a58756bd05528a1f"
      }
     },
     "7869454f795e45b3bfef4d12c48a6f57": {
      "model_module": "@jupyter-widgets/controls",
      "model_module_version": "1.5.0",
      "model_name": "HBoxModel",
      "state": {
       "_dom_classes": [],
       "_model_module": "@jupyter-widgets/controls",
       "_model_module_version": "1.5.0",
       "_model_name": "HBoxModel",
       "_view_count": null,
       "_view_module": "@jupyter-widgets/controls",
       "_view_module_version": "1.5.0",
       "_view_name": "HBoxView",
       "box_style": "",
       "children": [
        "IPY_MODEL_afefb4b942974a9394cd0171dc8ce76e",
        "IPY_MODEL_f3b16797a31d4155a293fb619e3d13fa",
        "IPY_MODEL_19e7c04e46dc4e579fe7774e9f23a792"
       ],
       "layout": "IPY_MODEL_aa897cf09d2c4d5aaac0a6f6e5c8c818"
      }
     },
     "7933aabf2caf401290c63c6a9b3d35bc": {
      "model_module": "@jupyter-widgets/controls",
      "model_module_version": "1.5.0",
      "model_name": "FloatProgressModel",
      "state": {
       "_dom_classes": [],
       "_model_module": "@jupyter-widgets/controls",
       "_model_module_version": "1.5.0",
       "_model_name": "FloatProgressModel",
       "_view_count": null,
       "_view_module": "@jupyter-widgets/controls",
       "_view_module_version": "1.5.0",
       "_view_name": "ProgressView",
       "bar_style": "success",
       "description": "",
       "description_tooltip": null,
       "layout": "IPY_MODEL_c18964af053444ad9aa54a7e7e2280c9",
       "max": 286059269.0,
       "min": 0.0,
       "orientation": "horizontal",
       "style": "IPY_MODEL_6eeeb5d626f940de9cf61d64d8307f06",
       "value": 286059269.0
      }
     },
     "873e0f70fa2a44d0bc2f34b95e16e492": {
      "model_module": "@jupyter-widgets/base",
      "model_module_version": "1.2.0",
      "model_name": "LayoutModel",
      "state": {
       "_model_module": "@jupyter-widgets/base",
       "_model_module_version": "1.2.0",
       "_model_name": "LayoutModel",
       "_view_count": null,
       "_view_module": "@jupyter-widgets/base",
       "_view_module_version": "1.2.0",
       "_view_name": "LayoutView",
       "align_content": null,
       "align_items": null,
       "align_self": null,
       "border": null,
       "bottom": null,
       "display": null,
       "flex": null,
       "flex_flow": null,
       "grid_area": null,
       "grid_auto_columns": null,
       "grid_auto_flow": null,
       "grid_auto_rows": null,
       "grid_column": null,
       "grid_gap": null,
       "grid_row": null,
       "grid_template_areas": null,
       "grid_template_columns": null,
       "grid_template_rows": null,
       "height": null,
       "justify_content": null,
       "justify_items": null,
       "left": null,
       "margin": null,
       "max_height": null,
       "max_width": null,
       "min_height": null,
       "min_width": null,
       "object_fit": null,
       "object_position": null,
       "order": null,
       "overflow": null,
       "overflow_x": null,
       "overflow_y": null,
       "padding": null,
       "right": null,
       "top": null,
       "visibility": null,
       "width": null
      }
     },
     "8b6fdd02039245e0ab5f2bdea1b2b259": {
      "model_module": "@jupyter-widgets/base",
      "model_module_version": "1.2.0",
      "model_name": "LayoutModel",
      "state": {
       "_model_module": "@jupyter-widgets/base",
       "_model_module_version": "1.2.0",
       "_model_name": "LayoutModel",
       "_view_count": null,
       "_view_module": "@jupyter-widgets/base",
       "_view_module_version": "1.2.0",
       "_view_name": "LayoutView",
       "align_content": null,
       "align_items": null,
       "align_self": null,
       "border": null,
       "bottom": null,
       "display": null,
       "flex": null,
       "flex_flow": null,
       "grid_area": null,
       "grid_auto_columns": null,
       "grid_auto_flow": null,
       "grid_auto_rows": null,
       "grid_column": null,
       "grid_gap": null,
       "grid_row": null,
       "grid_template_areas": null,
       "grid_template_columns": null,
       "grid_template_rows": null,
       "height": null,
       "justify_content": null,
       "justify_items": null,
       "left": null,
       "margin": null,
       "max_height": null,
       "max_width": null,
       "min_height": null,
       "min_width": null,
       "object_fit": null,
       "object_position": null,
       "order": null,
       "overflow": null,
       "overflow_x": null,
       "overflow_y": null,
       "padding": null,
       "right": null,
       "top": null,
       "visibility": null,
       "width": null
      }
     },
     "9115da2227da4e5a867acfe04351dd2a": {
      "model_module": "@jupyter-widgets/controls",
      "model_module_version": "1.5.0",
      "model_name": "HTMLModel",
      "state": {
       "_dom_classes": [],
       "_model_module": "@jupyter-widgets/controls",
       "_model_module_version": "1.5.0",
       "_model_name": "HTMLModel",
       "_view_count": null,
       "_view_module": "@jupyter-widgets/controls",
       "_view_module_version": "1.5.0",
       "_view_name": "HTMLView",
       "description": "",
       "description_tooltip": null,
       "layout": "IPY_MODEL_3ded561905df4ec8a6c3ce3ad559fbb0",
       "placeholder": "​",
       "style": "IPY_MODEL_c1f2dac8a8344148b257fecc307f9a4c",
       "value": " 52.0/52.0 [00:00&lt;00:00, 4.16kB/s]"
      }
     },
     "944c96e4d2254d3c8503af4416acd916": {
      "model_module": "@jupyter-widgets/base",
      "model_module_version": "1.2.0",
      "model_name": "LayoutModel",
      "state": {
       "_model_module": "@jupyter-widgets/base",
       "_model_module_version": "1.2.0",
       "_model_name": "LayoutModel",
       "_view_count": null,
       "_view_module": "@jupyter-widgets/base",
       "_view_module_version": "1.2.0",
       "_view_name": "LayoutView",
       "align_content": null,
       "align_items": null,
       "align_self": null,
       "border": null,
       "bottom": null,
       "display": null,
       "flex": null,
       "flex_flow": null,
       "grid_area": null,
       "grid_auto_columns": null,
       "grid_auto_flow": null,
       "grid_auto_rows": null,
       "grid_column": null,
       "grid_gap": null,
       "grid_row": null,
       "grid_template_areas": null,
       "grid_template_columns": null,
       "grid_template_rows": null,
       "height": null,
       "justify_content": null,
       "justify_items": null,
       "left": null,
       "margin": null,
       "max_height": null,
       "max_width": null,
       "min_height": null,
       "min_width": null,
       "object_fit": null,
       "object_position": null,
       "order": null,
       "overflow": null,
       "overflow_x": null,
       "overflow_y": null,
       "padding": null,
       "right": null,
       "top": null,
       "visibility": null,
       "width": null
      }
     },
     "99de173e802747f5af1b39043c6f7d69": {
      "model_module": "@jupyter-widgets/controls",
      "model_module_version": "1.5.0",
      "model_name": "DescriptionStyleModel",
      "state": {
       "_model_module": "@jupyter-widgets/controls",
       "_model_module_version": "1.5.0",
       "_model_name": "DescriptionStyleModel",
       "_view_count": null,
       "_view_module": "@jupyter-widgets/base",
       "_view_module_version": "1.2.0",
       "_view_name": "StyleView",
       "description_width": ""
      }
     },
     "9e4d82f4f92c41dfb72b02ac5d6d6701": {
      "model_module": "@jupyter-widgets/controls",
      "model_module_version": "1.5.0",
      "model_name": "HTMLModel",
      "state": {
       "_dom_classes": [],
       "_model_module": "@jupyter-widgets/controls",
       "_model_module_version": "1.5.0",
       "_model_name": "HTMLModel",
       "_view_count": null,
       "_view_module": "@jupyter-widgets/controls",
       "_view_module_version": "1.5.0",
       "_view_name": "HTMLView",
       "description": "",
       "description_tooltip": null,
       "layout": "IPY_MODEL_0b41898117694a17ac47d42981cdc00c",
       "placeholder": "​",
       "style": "IPY_MODEL_ec52a8c8b0e3493797a510c659453a6a",
       "value": "100%"
      }
     },
     "9e8dc3d837db45ca97834da6825cdf8e": {
      "model_module": "@jupyter-widgets/base",
      "model_module_version": "1.2.0",
      "model_name": "LayoutModel",
      "state": {
       "_model_module": "@jupyter-widgets/base",
       "_model_module_version": "1.2.0",
       "_model_name": "LayoutModel",
       "_view_count": null,
       "_view_module": "@jupyter-widgets/base",
       "_view_module_version": "1.2.0",
       "_view_name": "LayoutView",
       "align_content": null,
       "align_items": null,
       "align_self": null,
       "border": null,
       "bottom": null,
       "display": null,
       "flex": null,
       "flex_flow": null,
       "grid_area": null,
       "grid_auto_columns": null,
       "grid_auto_flow": null,
       "grid_auto_rows": null,
       "grid_column": null,
       "grid_gap": null,
       "grid_row": null,
       "grid_template_areas": null,
       "grid_template_columns": null,
       "grid_template_rows": null,
       "height": null,
       "justify_content": null,
       "justify_items": null,
       "left": null,
       "margin": null,
       "max_height": null,
       "max_width": null,
       "min_height": null,
       "min_width": null,
       "object_fit": null,
       "object_position": null,
       "order": null,
       "overflow": null,
       "overflow_x": null,
       "overflow_y": null,
       "padding": null,
       "right": null,
       "top": null,
       "visibility": null,
       "width": null
      }
     },
     "9ff67cd97ce94c7ba5a65d02c89659f9": {
      "model_module": "@jupyter-widgets/controls",
      "model_module_version": "1.5.0",
      "model_name": "HTMLModel",
      "state": {
       "_dom_classes": [],
       "_model_module": "@jupyter-widgets/controls",
       "_model_module_version": "1.5.0",
       "_model_name": "HTMLModel",
       "_view_count": null,
       "_view_module": "@jupyter-widgets/controls",
       "_view_module_version": "1.5.0",
       "_view_name": "HTMLView",
       "description": "",
       "description_tooltip": null,
       "layout": "IPY_MODEL_773e335f78c4443cb1f91a788ac70c16",
       "placeholder": "​",
       "style": "IPY_MODEL_6d4893e5022d4873ab948a6836eb29b4",
       "value": "Downloading spm.model: 100%"
      }
     },
     "a3984afcdd7a4fcf87d9f6ddfb168347": {
      "model_module": "@jupyter-widgets/base",
      "model_module_version": "1.2.0",
      "model_name": "LayoutModel",
      "state": {
       "_model_module": "@jupyter-widgets/base",
       "_model_module_version": "1.2.0",
       "_model_name": "LayoutModel",
       "_view_count": null,
       "_view_module": "@jupyter-widgets/base",
       "_view_module_version": "1.2.0",
       "_view_name": "LayoutView",
       "align_content": null,
       "align_items": null,
       "align_self": null,
       "border": null,
       "bottom": null,
       "display": null,
       "flex": null,
       "flex_flow": null,
       "grid_area": null,
       "grid_auto_columns": null,
       "grid_auto_flow": null,
       "grid_auto_rows": null,
       "grid_column": null,
       "grid_gap": null,
       "grid_row": null,
       "grid_template_areas": null,
       "grid_template_columns": null,
       "grid_template_rows": null,
       "height": null,
       "justify_content": null,
       "justify_items": null,
       "left": null,
       "margin": null,
       "max_height": null,
       "max_width": null,
       "min_height": null,
       "min_width": null,
       "object_fit": null,
       "object_position": null,
       "order": null,
       "overflow": null,
       "overflow_x": null,
       "overflow_y": null,
       "padding": null,
       "right": null,
       "top": null,
       "visibility": null,
       "width": null
      }
     },
     "aa897cf09d2c4d5aaac0a6f6e5c8c818": {
      "model_module": "@jupyter-widgets/base",
      "model_module_version": "1.2.0",
      "model_name": "LayoutModel",
      "state": {
       "_model_module": "@jupyter-widgets/base",
       "_model_module_version": "1.2.0",
       "_model_name": "LayoutModel",
       "_view_count": null,
       "_view_module": "@jupyter-widgets/base",
       "_view_module_version": "1.2.0",
       "_view_name": "LayoutView",
       "align_content": null,
       "align_items": null,
       "align_self": null,
       "border": null,
       "bottom": null,
       "display": null,
       "flex": null,
       "flex_flow": null,
       "grid_area": null,
       "grid_auto_columns": null,
       "grid_auto_flow": null,
       "grid_auto_rows": null,
       "grid_column": null,
       "grid_gap": null,
       "grid_row": null,
       "grid_template_areas": null,
       "grid_template_columns": null,
       "grid_template_rows": null,
       "height": null,
       "justify_content": null,
       "justify_items": null,
       "left": null,
       "margin": null,
       "max_height": null,
       "max_width": null,
       "min_height": null,
       "min_width": null,
       "object_fit": null,
       "object_position": null,
       "order": null,
       "overflow": null,
       "overflow_x": null,
       "overflow_y": null,
       "padding": null,
       "right": null,
       "top": null,
       "visibility": null,
       "width": null
      }
     },
     "aaa72f2ae71843089503ab12eb35131a": {
      "model_module": "@jupyter-widgets/controls",
      "model_module_version": "1.5.0",
      "model_name": "HTMLModel",
      "state": {
       "_dom_classes": [],
       "_model_module": "@jupyter-widgets/controls",
       "_model_module_version": "1.5.0",
       "_model_name": "HTMLModel",
       "_view_count": null,
       "_view_module": "@jupyter-widgets/controls",
       "_view_module_version": "1.5.0",
       "_view_name": "HTMLView",
       "description": "",
       "description_tooltip": null,
       "layout": "IPY_MODEL_8b6fdd02039245e0ab5f2bdea1b2b259",
       "placeholder": "​",
       "style": "IPY_MODEL_173c7dab7e2f47b3a8702a999ab3c958",
       "value": " 2.46M/2.46M [00:00&lt;00:00, 16.1MB/s]"
      }
     },
     "abe73e252b014e29860b531a25aafd0b": {
      "model_module": "@jupyter-widgets/controls",
      "model_module_version": "1.5.0",
      "model_name": "ProgressStyleModel",
      "state": {
       "_model_module": "@jupyter-widgets/controls",
       "_model_module_version": "1.5.0",
       "_model_name": "ProgressStyleModel",
       "_view_count": null,
       "_view_module": "@jupyter-widgets/base",
       "_view_module_version": "1.2.0",
       "_view_name": "StyleView",
       "bar_color": null,
       "description_width": ""
      }
     },
     "afefb4b942974a9394cd0171dc8ce76e": {
      "model_module": "@jupyter-widgets/controls",
      "model_module_version": "1.5.0",
      "model_name": "HTMLModel",
      "state": {
       "_dom_classes": [],
       "_model_module": "@jupyter-widgets/controls",
       "_model_module_version": "1.5.0",
       "_model_name": "HTMLModel",
       "_view_count": null,
       "_view_module": "@jupyter-widgets/controls",
       "_view_module_version": "1.5.0",
       "_view_name": "HTMLView",
       "description": "",
       "description_tooltip": null,
       "layout": "IPY_MODEL_5731de82503e40468908a01a1e2a0e3a",
       "placeholder": "​",
       "style": "IPY_MODEL_99de173e802747f5af1b39043c6f7d69",
       "value": "Downloading (…)lve/main/config.json: 100%"
      }
     },
     "b7a31b6a5df44c2197ab1fd883043210": {
      "model_module": "@jupyter-widgets/base",
      "model_module_version": "1.2.0",
      "model_name": "LayoutModel",
      "state": {
       "_model_module": "@jupyter-widgets/base",
       "_model_module_version": "1.2.0",
       "_model_name": "LayoutModel",
       "_view_count": null,
       "_view_module": "@jupyter-widgets/base",
       "_view_module_version": "1.2.0",
       "_view_name": "LayoutView",
       "align_content": null,
       "align_items": null,
       "align_self": null,
       "border": null,
       "bottom": null,
       "display": null,
       "flex": null,
       "flex_flow": null,
       "grid_area": null,
       "grid_auto_columns": null,
       "grid_auto_flow": null,
       "grid_auto_rows": null,
       "grid_column": null,
       "grid_gap": null,
       "grid_row": null,
       "grid_template_areas": null,
       "grid_template_columns": null,
       "grid_template_rows": null,
       "height": null,
       "justify_content": null,
       "justify_items": null,
       "left": null,
       "margin": null,
       "max_height": null,
       "max_width": null,
       "min_height": null,
       "min_width": null,
       "object_fit": null,
       "object_position": null,
       "order": null,
       "overflow": null,
       "overflow_x": null,
       "overflow_y": null,
       "padding": null,
       "right": null,
       "top": null,
       "visibility": null,
       "width": null
      }
     },
     "c18964af053444ad9aa54a7e7e2280c9": {
      "model_module": "@jupyter-widgets/base",
      "model_module_version": "1.2.0",
      "model_name": "LayoutModel",
      "state": {
       "_model_module": "@jupyter-widgets/base",
       "_model_module_version": "1.2.0",
       "_model_name": "LayoutModel",
       "_view_count": null,
       "_view_module": "@jupyter-widgets/base",
       "_view_module_version": "1.2.0",
       "_view_name": "LayoutView",
       "align_content": null,
       "align_items": null,
       "align_self": null,
       "border": null,
       "bottom": null,
       "display": null,
       "flex": null,
       "flex_flow": null,
       "grid_area": null,
       "grid_auto_columns": null,
       "grid_auto_flow": null,
       "grid_auto_rows": null,
       "grid_column": null,
       "grid_gap": null,
       "grid_row": null,
       "grid_template_areas": null,
       "grid_template_columns": null,
       "grid_template_rows": null,
       "height": null,
       "justify_content": null,
       "justify_items": null,
       "left": null,
       "margin": null,
       "max_height": null,
       "max_width": null,
       "min_height": null,
       "min_width": null,
       "object_fit": null,
       "object_position": null,
       "order": null,
       "overflow": null,
       "overflow_x": null,
       "overflow_y": null,
       "padding": null,
       "right": null,
       "top": null,
       "visibility": null,
       "width": null
      }
     },
     "c1f2dac8a8344148b257fecc307f9a4c": {
      "model_module": "@jupyter-widgets/controls",
      "model_module_version": "1.5.0",
      "model_name": "DescriptionStyleModel",
      "state": {
       "_model_module": "@jupyter-widgets/controls",
       "_model_module_version": "1.5.0",
       "_model_name": "DescriptionStyleModel",
       "_view_count": null,
       "_view_module": "@jupyter-widgets/base",
       "_view_module_version": "1.2.0",
       "_view_name": "StyleView",
       "description_width": ""
      }
     },
     "c5e988df30634497b750cf9fd0565e2c": {
      "model_module": "@jupyter-widgets/controls",
      "model_module_version": "1.5.0",
      "model_name": "DescriptionStyleModel",
      "state": {
       "_model_module": "@jupyter-widgets/controls",
       "_model_module_version": "1.5.0",
       "_model_name": "DescriptionStyleModel",
       "_view_count": null,
       "_view_module": "@jupyter-widgets/base",
       "_view_module_version": "1.2.0",
       "_view_name": "StyleView",
       "description_width": ""
      }
     },
     "dfd1f2e030b844d5915e59989a0c7aae": {
      "model_module": "@jupyter-widgets/controls",
      "model_module_version": "1.5.0",
      "model_name": "FloatProgressModel",
      "state": {
       "_dom_classes": [],
       "_model_module": "@jupyter-widgets/controls",
       "_model_module_version": "1.5.0",
       "_model_name": "FloatProgressModel",
       "_view_count": null,
       "_view_module": "@jupyter-widgets/controls",
       "_view_module_version": "1.5.0",
       "_view_name": "ProgressView",
       "bar_style": "success",
       "description": "",
       "description_tooltip": null,
       "layout": "IPY_MODEL_5ceb2b6b7e7d4780b20e8b4fed2f8c90",
       "max": 2.0,
       "min": 0.0,
       "orientation": "horizontal",
       "style": "IPY_MODEL_74d240c21f3d48aa9370d0a08e462172",
       "value": 2.0
      }
     },
     "e37be67ddbfb46698a0d38c777d49c87": {
      "model_module": "@jupyter-widgets/controls",
      "model_module_version": "1.5.0",
      "model_name": "HTMLModel",
      "state": {
       "_dom_classes": [],
       "_model_module": "@jupyter-widgets/controls",
       "_model_module_version": "1.5.0",
       "_model_name": "HTMLModel",
       "_view_count": null,
       "_view_module": "@jupyter-widgets/controls",
       "_view_module_version": "1.5.0",
       "_view_name": "HTMLView",
       "description": "",
       "description_tooltip": null,
       "layout": "IPY_MODEL_464096c693aa4dd5a8e9a559b021fe19",
       "placeholder": "​",
       "style": "IPY_MODEL_35b03a2163f040289aef3eb420aff125",
       "value": " 2/2 [00:01&lt;00:00,  1.19ba/s]"
      }
     },
     "ec52a8c8b0e3493797a510c659453a6a": {
      "model_module": "@jupyter-widgets/controls",
      "model_module_version": "1.5.0",
      "model_name": "DescriptionStyleModel",
      "state": {
       "_model_module": "@jupyter-widgets/controls",
       "_model_module_version": "1.5.0",
       "_model_name": "DescriptionStyleModel",
       "_view_count": null,
       "_view_module": "@jupyter-widgets/base",
       "_view_module_version": "1.2.0",
       "_view_name": "StyleView",
       "description_width": ""
      }
     },
     "f3531fc802b84b418e3770222f406463": {
      "model_module": "@jupyter-widgets/base",
      "model_module_version": "1.2.0",
      "model_name": "LayoutModel",
      "state": {
       "_model_module": "@jupyter-widgets/base",
       "_model_module_version": "1.2.0",
       "_model_name": "LayoutModel",
       "_view_count": null,
       "_view_module": "@jupyter-widgets/base",
       "_view_module_version": "1.2.0",
       "_view_name": "LayoutView",
       "align_content": null,
       "align_items": null,
       "align_self": null,
       "border": null,
       "bottom": null,
       "display": null,
       "flex": null,
       "flex_flow": null,
       "grid_area": null,
       "grid_auto_columns": null,
       "grid_auto_flow": null,
       "grid_auto_rows": null,
       "grid_column": null,
       "grid_gap": null,
       "grid_row": null,
       "grid_template_areas": null,
       "grid_template_columns": null,
       "grid_template_rows": null,
       "height": null,
       "justify_content": null,
       "justify_items": null,
       "left": null,
       "margin": null,
       "max_height": null,
       "max_width": null,
       "min_height": null,
       "min_width": null,
       "object_fit": null,
       "object_position": null,
       "order": null,
       "overflow": null,
       "overflow_x": null,
       "overflow_y": null,
       "padding": null,
       "right": null,
       "top": null,
       "visibility": null,
       "width": null
      }
     },
     "f3b16797a31d4155a293fb619e3d13fa": {
      "model_module": "@jupyter-widgets/controls",
      "model_module_version": "1.5.0",
      "model_name": "FloatProgressModel",
      "state": {
       "_dom_classes": [],
       "_model_module": "@jupyter-widgets/controls",
       "_model_module_version": "1.5.0",
       "_model_name": "FloatProgressModel",
       "_view_count": null,
       "_view_module": "@jupyter-widgets/controls",
       "_view_module_version": "1.5.0",
       "_view_name": "ProgressView",
       "bar_style": "success",
       "description": "",
       "description_tooltip": null,
       "layout": "IPY_MODEL_873e0f70fa2a44d0bc2f34b95e16e492",
       "max": 578.0,
       "min": 0.0,
       "orientation": "horizontal",
       "style": "IPY_MODEL_694b42a8c0ab4b0f92d56fe04411d2ec",
       "value": 578.0
      }
     },
     "f4c3ca8378564e5eac9eb8f988bf2f99": {
      "model_module": "@jupyter-widgets/controls",
      "model_module_version": "1.5.0",
      "model_name": "FloatProgressModel",
      "state": {
       "_dom_classes": [],
       "_model_module": "@jupyter-widgets/controls",
       "_model_module_version": "1.5.0",
       "_model_name": "FloatProgressModel",
       "_view_count": null,
       "_view_module": "@jupyter-widgets/controls",
       "_view_module_version": "1.5.0",
       "_view_name": "ProgressView",
       "bar_style": "success",
       "description": "",
       "description_tooltip": null,
       "layout": "IPY_MODEL_a3984afcdd7a4fcf87d9f6ddfb168347",
       "max": 1.0,
       "min": 0.0,
       "orientation": "horizontal",
       "style": "IPY_MODEL_49e368fd18774a689f8146f73f718f7c",
       "value": 1.0
      }
     },
     "f64b550267904e9189dcf63c43237015": {
      "model_module": "@jupyter-widgets/controls",
      "model_module_version": "1.5.0",
      "model_name": "HTMLModel",
      "state": {
       "_dom_classes": [],
       "_model_module": "@jupyter-widgets/controls",
       "_model_module_version": "1.5.0",
       "_model_name": "HTMLModel",
       "_view_count": null,
       "_view_module": "@jupyter-widgets/controls",
       "_view_module_version": "1.5.0",
       "_view_name": "HTMLView",
       "description": "",
       "description_tooltip": null,
       "layout": "IPY_MODEL_40f7ce7032424713bb13c3f55153032d",
       "placeholder": "​",
       "style": "IPY_MODEL_570b744d1a72445dbd46209cf4e88c60",
       "value": " 1/1 [00:00&lt;00:00, 64.52ba/s]"
      }
     },
     "f84f644c3c5c4c438ef7118b992b47c7": {
      "model_module": "@jupyter-widgets/controls",
      "model_module_version": "1.5.0",
      "model_name": "HBoxModel",
      "state": {
       "_dom_classes": [],
       "_model_module": "@jupyter-widgets/controls",
       "_model_module_version": "1.5.0",
       "_model_name": "HBoxModel",
       "_view_count": null,
       "_view_module": "@jupyter-widgets/controls",
       "_view_module_version": "1.5.0",
       "_view_name": "HBoxView",
       "box_style": "",
       "children": [
        "IPY_MODEL_675601bf94d6446594a33f2791a4fd37",
        "IPY_MODEL_2ee5a1a624094cfe898fa6110f1b2cf5",
        "IPY_MODEL_9115da2227da4e5a867acfe04351dd2a"
       ],
       "layout": "IPY_MODEL_b7a31b6a5df44c2197ab1fd883043210"
      }
     }
    },
    "version_major": 2,
    "version_minor": 0
   }
  }
 },
 "nbformat": 4,
 "nbformat_minor": 5
}
